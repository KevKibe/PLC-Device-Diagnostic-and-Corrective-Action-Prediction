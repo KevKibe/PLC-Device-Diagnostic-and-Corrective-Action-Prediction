{
  "nbformat": 4,
  "nbformat_minor": 0,
  "metadata": {
    "colab": {
      "provenance": [],
      "authorship_tag": "ABX9TyMwuV4+jeab29G4l5ivPEGs"
    },
    "kernelspec": {
      "name": "python3",
      "display_name": "Python 3"
    },
    "language_info": {
      "name": "python"
    }
  },
  "cells": [
    {
      "cell_type": "code",
      "execution_count": null,
      "metadata": {
        "colab": {
          "base_uri": "https://localhost:8080/"
        },
        "id": "mWxDqwSTD436",
        "outputId": "6be11698-c45a-4ae6-b2f2-1dcd05a59a22"
      },
      "outputs": [
        {
          "output_type": "stream",
          "name": "stdout",
          "text": [
            "Mounted at /content/drive\n"
          ]
        }
      ],
      "source": [
        "from google.colab import drive\n",
        "drive.mount('/content/drive')"
      ]
    },
    {
      "cell_type": "code",
      "source": [
        "!pip install tensorflow --quiet"
      ],
      "metadata": {
        "id": "z-Qvw8QdxhuR"
      },
      "execution_count": 3,
      "outputs": []
    },
    {
      "cell_type": "code",
      "source": [
        "import pandas as pd\n",
        "import numpy as np\n",
        "import tensorflow as tf\n",
        "from tensorflow.keras.layers import Input, Embedding, LSTM, Dense\n",
        "from tensorflow.keras.models import Model\n",
        "from tensorflow.keras.preprocessing.text import Tokenizer\n",
        "from tensorflow.keras.preprocessing.sequence import pad_sequences\n",
        "from sklearn.preprocessing import LabelEncoder\n",
        "from sklearn.metrics.pairwise import cosine_similarity\n",
        "from keras.callbacks import ModelCheckpoint"
      ],
      "metadata": {
        "id": "ColcU8uqPyeH"
      },
      "execution_count": 2,
      "outputs": []
    },
    {
      "cell_type": "code",
      "source": [
        "#Loading the dataset\n",
        "df = pd.read_csv(\"PLCdata.csv\",index_col=[0])\n",
        "#combining the fault, model and PLC columns into 1 column fault_model\n",
        "df['Fault_Model'] = df['Fault'] + \" \" + df['Model']+ \" \" + df[\"PLC\"]\n",
        "df['Diagnostic_Corrective Action'] = df['Diagnostic'] + \" \" + df['Corrective Action']\n",
        "df.drop(['Fault','Model','PLC'], inplace=True, axis=1)"
      ],
      "metadata": {
        "id": "qI3086vUxC8w"
      },
      "execution_count": 6,
      "outputs": []
    },
    {
      "cell_type": "code",
      "source": [
        "df.head()"
      ],
      "metadata": {
        "colab": {
          "base_uri": "https://localhost:8080/",
          "height": 337
        },
        "id": "X9xlkQWox_IS",
        "outputId": "3a845f0f-92b1-49bf-b151-bf60b6885f81"
      },
      "execution_count": 7,
      "outputs": [
        {
          "output_type": "execute_result",
          "data": {
            "text/plain": [
              "                          Diagnostic  \\\n",
              "0  broken or cracked glass electrode   \n",
              "1  broken or cracked glass electrode   \n",
              "2       reference electrode poisoned   \n",
              "3         coated reference electrode   \n",
              "4              sensor out of process   \n",
              "\n",
              "                                Corrective Action  \\\n",
              "0                    replace electrode if cracked   \n",
              "1                          check wiring for short   \n",
              "2                    replace reference electorode   \n",
              "3  clean electrode as instructed in sensor manual   \n",
              "4  clean electrode as instructed in sensor manual   \n",
              "\n",
              "                             Fault_Model  \\\n",
              "0  cracked glass failure model e emerson   \n",
              "1  cracked glass failure model e emerson   \n",
              "2      zero offset error model e emerson   \n",
              "3   high reference imped model e emerson   \n",
              "4   high reference imped model e emerson   \n",
              "\n",
              "                        Diagnostic_Corrective Action  \n",
              "0  broken or cracked glass electrode replace elec...  \n",
              "1  broken or cracked glass electrode check wiring...  \n",
              "2  reference electrode poisoned replace reference...  \n",
              "3  coated reference electrode clean electrode as ...  \n",
              "4  sensor out of process clean electrode as instr...  "
            ],
            "text/html": [
              "\n",
              "  <div id=\"df-e37d761e-1a13-45c5-b066-b7c4026e5a66\">\n",
              "    <div class=\"colab-df-container\">\n",
              "      <div>\n",
              "<style scoped>\n",
              "    .dataframe tbody tr th:only-of-type {\n",
              "        vertical-align: middle;\n",
              "    }\n",
              "\n",
              "    .dataframe tbody tr th {\n",
              "        vertical-align: top;\n",
              "    }\n",
              "\n",
              "    .dataframe thead th {\n",
              "        text-align: right;\n",
              "    }\n",
              "</style>\n",
              "<table border=\"1\" class=\"dataframe\">\n",
              "  <thead>\n",
              "    <tr style=\"text-align: right;\">\n",
              "      <th></th>\n",
              "      <th>Diagnostic</th>\n",
              "      <th>Corrective Action</th>\n",
              "      <th>Fault_Model</th>\n",
              "      <th>Diagnostic_Corrective Action</th>\n",
              "    </tr>\n",
              "  </thead>\n",
              "  <tbody>\n",
              "    <tr>\n",
              "      <th>0</th>\n",
              "      <td>broken or cracked glass electrode</td>\n",
              "      <td>replace electrode if cracked</td>\n",
              "      <td>cracked glass failure model e emerson</td>\n",
              "      <td>broken or cracked glass electrode replace elec...</td>\n",
              "    </tr>\n",
              "    <tr>\n",
              "      <th>1</th>\n",
              "      <td>broken or cracked glass electrode</td>\n",
              "      <td>check wiring for short</td>\n",
              "      <td>cracked glass failure model e emerson</td>\n",
              "      <td>broken or cracked glass electrode check wiring...</td>\n",
              "    </tr>\n",
              "    <tr>\n",
              "      <th>2</th>\n",
              "      <td>reference electrode poisoned</td>\n",
              "      <td>replace reference electorode</td>\n",
              "      <td>zero offset error model e emerson</td>\n",
              "      <td>reference electrode poisoned replace reference...</td>\n",
              "    </tr>\n",
              "    <tr>\n",
              "      <th>3</th>\n",
              "      <td>coated reference electrode</td>\n",
              "      <td>clean electrode as instructed in sensor manual</td>\n",
              "      <td>high reference imped model e emerson</td>\n",
              "      <td>coated reference electrode clean electrode as ...</td>\n",
              "    </tr>\n",
              "    <tr>\n",
              "      <th>4</th>\n",
              "      <td>sensor out of process</td>\n",
              "      <td>clean electrode as instructed in sensor manual</td>\n",
              "      <td>high reference imped model e emerson</td>\n",
              "      <td>sensor out of process clean electrode as instr...</td>\n",
              "    </tr>\n",
              "  </tbody>\n",
              "</table>\n",
              "</div>\n",
              "      <button class=\"colab-df-convert\" onclick=\"convertToInteractive('df-e37d761e-1a13-45c5-b066-b7c4026e5a66')\"\n",
              "              title=\"Convert this dataframe to an interactive table.\"\n",
              "              style=\"display:none;\">\n",
              "        \n",
              "  <svg xmlns=\"http://www.w3.org/2000/svg\" height=\"24px\"viewBox=\"0 0 24 24\"\n",
              "       width=\"24px\">\n",
              "    <path d=\"M0 0h24v24H0V0z\" fill=\"none\"/>\n",
              "    <path d=\"M18.56 5.44l.94 2.06.94-2.06 2.06-.94-2.06-.94-.94-2.06-.94 2.06-2.06.94zm-11 1L8.5 8.5l.94-2.06 2.06-.94-2.06-.94L8.5 2.5l-.94 2.06-2.06.94zm10 10l.94 2.06.94-2.06 2.06-.94-2.06-.94-.94-2.06-.94 2.06-2.06.94z\"/><path d=\"M17.41 7.96l-1.37-1.37c-.4-.4-.92-.59-1.43-.59-.52 0-1.04.2-1.43.59L10.3 9.45l-7.72 7.72c-.78.78-.78 2.05 0 2.83L4 21.41c.39.39.9.59 1.41.59.51 0 1.02-.2 1.41-.59l7.78-7.78 2.81-2.81c.8-.78.8-2.07 0-2.86zM5.41 20L4 18.59l7.72-7.72 1.47 1.35L5.41 20z\"/>\n",
              "  </svg>\n",
              "      </button>\n",
              "      \n",
              "  <style>\n",
              "    .colab-df-container {\n",
              "      display:flex;\n",
              "      flex-wrap:wrap;\n",
              "      gap: 12px;\n",
              "    }\n",
              "\n",
              "    .colab-df-convert {\n",
              "      background-color: #E8F0FE;\n",
              "      border: none;\n",
              "      border-radius: 50%;\n",
              "      cursor: pointer;\n",
              "      display: none;\n",
              "      fill: #1967D2;\n",
              "      height: 32px;\n",
              "      padding: 0 0 0 0;\n",
              "      width: 32px;\n",
              "    }\n",
              "\n",
              "    .colab-df-convert:hover {\n",
              "      background-color: #E2EBFA;\n",
              "      box-shadow: 0px 1px 2px rgba(60, 64, 67, 0.3), 0px 1px 3px 1px rgba(60, 64, 67, 0.15);\n",
              "      fill: #174EA6;\n",
              "    }\n",
              "\n",
              "    [theme=dark] .colab-df-convert {\n",
              "      background-color: #3B4455;\n",
              "      fill: #D2E3FC;\n",
              "    }\n",
              "\n",
              "    [theme=dark] .colab-df-convert:hover {\n",
              "      background-color: #434B5C;\n",
              "      box-shadow: 0px 1px 3px 1px rgba(0, 0, 0, 0.15);\n",
              "      filter: drop-shadow(0px 1px 2px rgba(0, 0, 0, 0.3));\n",
              "      fill: #FFFFFF;\n",
              "    }\n",
              "  </style>\n",
              "\n",
              "      <script>\n",
              "        const buttonEl =\n",
              "          document.querySelector('#df-e37d761e-1a13-45c5-b066-b7c4026e5a66 button.colab-df-convert');\n",
              "        buttonEl.style.display =\n",
              "          google.colab.kernel.accessAllowed ? 'block' : 'none';\n",
              "\n",
              "        async function convertToInteractive(key) {\n",
              "          const element = document.querySelector('#df-e37d761e-1a13-45c5-b066-b7c4026e5a66');\n",
              "          const dataTable =\n",
              "            await google.colab.kernel.invokeFunction('convertToInteractive',\n",
              "                                                     [key], {});\n",
              "          if (!dataTable) return;\n",
              "\n",
              "          const docLinkHtml = 'Like what you see? Visit the ' +\n",
              "            '<a target=\"_blank\" href=https://colab.research.google.com/notebooks/data_table.ipynb>data table notebook</a>'\n",
              "            + ' to learn more about interactive tables.';\n",
              "          element.innerHTML = '';\n",
              "          dataTable['output_type'] = 'display_data';\n",
              "          await google.colab.output.renderOutput(dataTable, element);\n",
              "          const docLink = document.createElement('div');\n",
              "          docLink.innerHTML = docLinkHtml;\n",
              "          element.appendChild(docLink);\n",
              "        }\n",
              "      </script>\n",
              "    </div>\n",
              "  </div>\n",
              "  "
            ]
          },
          "metadata": {},
          "execution_count": 7
        }
      ]
    },
    {
      "cell_type": "code",
      "source": [
        "df.info()"
      ],
      "metadata": {
        "colab": {
          "base_uri": "https://localhost:8080/"
        },
        "id": "aulaHLVFx2zz",
        "outputId": "7e2d7190-3ec1-4257-aed7-e2e7d8ad8630"
      },
      "execution_count": 8,
      "outputs": [
        {
          "output_type": "stream",
          "name": "stdout",
          "text": [
            "<class 'pandas.core.frame.DataFrame'>\n",
            "Int64Index: 1398 entries, 0 to 1397\n",
            "Data columns (total 4 columns):\n",
            " #   Column                        Non-Null Count  Dtype \n",
            "---  ------                        --------------  ----- \n",
            " 0   Diagnostic                    1398 non-null   object\n",
            " 1   Corrective Action             1397 non-null   object\n",
            " 2   Fault_Model                   1398 non-null   object\n",
            " 3   Diagnostic_Corrective Action  1397 non-null   object\n",
            "dtypes: object(4)\n",
            "memory usage: 54.6+ KB\n"
          ]
        }
      ]
    },
    {
      "cell_type": "code",
      "source": [
        "\n",
        "\n",
        "data = df\n",
        "\n",
        "# Convert the title_summaries column to integers using LabelEncoder\n",
        "label_encoder = LabelEncoder()\n",
        "label_encoder.fit(data['Diagnostic_Corrective Action'])\n",
        "encoded_labels = label_encoder.transform(data['Diagnostic_Corrective Action'])\n",
        "\n",
        "# Tokenize the text and query columns\n",
        "tokenizer = Tokenizer()\n",
        "tokenizer.fit_on_texts(data['Diagnostic_Corrective Action'].tolist() + data['Fault_Model'].tolist())\n",
        "\n",
        "# Get the maximum sequence length\n",
        "max_sequence_length = max([len(x.split()) for x in data['Diagnostic_Corrective Action'].tolist() + data['Fault_Model'].tolist()])\n",
        "\n",
        "# Convert the text and query columns to sequences\n",
        "text_sequences = tokenizer.texts_to_sequences(data['Diagnostic_Corrective Action'].tolist())\n",
        "text_sequences_padded = pad_sequences(text_sequences, maxlen=max_sequence_length)\n",
        "query_sequences = tokenizer.texts_to_sequences(data['Fault_Model'].tolist())\n",
        "query_sequences_padded = pad_sequences(query_sequences, maxlen=max_sequence_length)\n",
        "\n",
        "# Define the LSTM model architecture\n",
        "input_layer = Input(shape=(max_sequence_length,))\n",
        "embedding_layer = Embedding(input_dim=len(tokenizer.word_index)+1, output_dim=128, input_length=max_sequence_length)(input_layer)\n",
        "lstm_layer = LSTM(128)(embedding_layer)\n",
        "output_layer = Dense(len(data['Diagnostic_Corrective Action'].unique()), activation='softmax')(lstm_layer)\n",
        "model = Model(inputs=input_layer, outputs=output_layer)\n",
        "\n",
        "\n",
        "# Compile the model\n",
        "model.compile(optimizer='adam', loss='categorical_crossentropy', metrics=['accuracy'])\n",
        "\n",
        "\n",
        "checkpoint = ModelCheckpoint('best_model.hdf5', monitor='val_loss', verbose = 1, save_best_only = True, mode ='auto')\n",
        "callbacks_list = [checkpoint]\n",
        "\n",
        "# Train the model with one-hot encoded labels\n",
        "model.fit(text_sequences_padded, tf.keras.utils.to_categorical(encoded_labels), epochs=20,callbacks=callbacks_list)\n",
        "model.save('final_model.h5')\n"
      ],
      "metadata": {
        "id": "N-FZTY8yWvJm"
      },
      "execution_count": 11,
      "outputs": []
    },
    {
      "cell_type": "code",
      "source": [
        "!pip install streamlit --quiet\n",
        "! pip install pyngrok --quiet"
      ],
      "metadata": {
        "id": "fjqpTyzRnkVB"
      },
      "execution_count": null,
      "outputs": []
    },
    {
      "cell_type": "code",
      "source": [
        "%%writefile app.py\n",
        "import streamlit as st\n",
        "st.write(\"# PLC Fault Prediction\")\n",
        "st.text_input(\"Enter the PLC:\")\n",
        "st.text_input(\"Enter the Model:\")\n",
        "st.text_input(\"Enter the paper Fault:\")"
      ],
      "metadata": {
        "colab": {
          "base_uri": "https://localhost:8080/"
        },
        "id": "0J_HtsikoTB1",
        "outputId": "9c6b65d7-041d-490d-8094-45445ab35214"
      },
      "execution_count": null,
      "outputs": [
        {
          "output_type": "stream",
          "name": "stdout",
          "text": [
            "Overwriting app.py\n"
          ]
        }
      ]
    },
    {
      "cell_type": "code",
      "source": [
        "from pyngrok import ngrok\n",
        "\n",
        "ngrok.set_auth_token(\"2LArVCZnMmuPMV0uYjEx4zAOSpx_6AiMAuvnRpVMQxFzSkvaE\") \n",
        "\n",
        "!nohup streamlit run app.py --server.port 80 & --quiet\n",
        "url = ngrok.connect(port = '80')\n",
        "print(url)"
      ],
      "metadata": {
        "colab": {
          "base_uri": "https://localhost:8080/"
        },
        "id": "RyDGdfgunkR5",
        "outputId": "a861c4c4-75c9-451c-a24e-3965c3834beb"
      },
      "execution_count": null,
      "outputs": [
        {
          "output_type": "stream",
          "name": "stdout",
          "text": [
            "/bin/bash: --quiet: command not found\n",
            "nohup: appending output to 'nohup.out'\n",
            "NgrokTunnel: \"http://6b6c-34-83-144-170.ngrok.io\" -> \"http://localhost:80\"\n"
          ]
        }
      ]
    },
    {
      "cell_type": "code",
      "source": [
        "ngrok.kill()"
      ],
      "metadata": {
        "id": "Qk7T12J8nkPu"
      },
      "execution_count": null,
      "outputs": []
    }
  ]
}