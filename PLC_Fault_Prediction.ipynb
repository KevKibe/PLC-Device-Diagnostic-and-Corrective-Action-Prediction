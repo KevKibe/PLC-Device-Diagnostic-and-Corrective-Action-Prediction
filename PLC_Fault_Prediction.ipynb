{
  "nbformat": 4,
  "nbformat_minor": 0,
  "metadata": {
    "colab": {
      "provenance": [],
      "authorship_tag": "ABX9TyMUpl/TNLC7acLvXHaKTWBG"
    },
    "kernelspec": {
      "name": "python3",
      "display_name": "Python 3"
    },
    "language_info": {
      "name": "python"
    }
  },
  "cells": [
    {
      "cell_type": "code",
      "execution_count": null,
      "metadata": {
        "colab": {
          "base_uri": "https://localhost:8080/"
        },
        "id": "mWxDqwSTD436",
        "outputId": "6be11698-c45a-4ae6-b2f2-1dcd05a59a22"
      },
      "outputs": [
        {
          "output_type": "stream",
          "name": "stdout",
          "text": [
            "Mounted at /content/drive\n"
          ]
        }
      ],
      "source": [
        "from google.colab import drive\n",
        "drive.mount('/content/drive')"
      ]
    },
    {
      "cell_type": "code",
      "source": [
        "import pandas as pd\n",
        "df= pd.read_csv('PLCdata.csv', index_col=[0])"
      ],
      "metadata": {
        "id": "dn0ZQX9BEI0C"
      },
      "execution_count": 43,
      "outputs": []
    },
    {
      "cell_type": "code",
      "source": [
        "print(df.info())\n",
        "df.head()"
      ],
      "metadata": {
        "colab": {
          "base_uri": "https://localhost:8080/",
          "height": 432
        },
        "id": "bnyMFUGJEqk0",
        "outputId": "86611f66-1e91-4235-9cd9-8cd9150466bc"
      },
      "execution_count": 44,
      "outputs": [
        {
          "output_type": "stream",
          "name": "stdout",
          "text": [
            "<class 'pandas.core.frame.DataFrame'>\n",
            "Int64Index: 1398 entries, 0 to 1397\n",
            "Data columns (total 5 columns):\n",
            " #   Column             Non-Null Count  Dtype \n",
            "---  ------             --------------  ----- \n",
            " 0   Fault              1398 non-null   object\n",
            " 1   Diagnostic         1398 non-null   object\n",
            " 2   Corrective Action  1397 non-null   object\n",
            " 3   PLC                1398 non-null   object\n",
            " 4   Model              1398 non-null   object\n",
            "dtypes: object(5)\n",
            "memory usage: 65.5+ KB\n",
            "None\n"
          ]
        },
        {
          "output_type": "execute_result",
          "data": {
            "text/plain": [
              "                   Fault                         Diagnostic  \\\n",
              "0  cracked glass failure  broken or cracked glass electrode   \n",
              "1  cracked glass failure  broken or cracked glass electrode   \n",
              "2      zero offset error       reference electrode poisoned   \n",
              "3   high reference imped         coated reference electrode   \n",
              "4   high reference imped              sensor out of process   \n",
              "\n",
              "                                Corrective Action      PLC    Model  \n",
              "0                    replace electrode if cracked  emerson  model e  \n",
              "1                          check wiring for short  emerson  model e  \n",
              "2                    replace reference electorode  emerson  model e  \n",
              "3  clean electrode as instructed in sensor manual  emerson  model e  \n",
              "4  clean electrode as instructed in sensor manual  emerson  model e  "
            ],
            "text/html": [
              "\n",
              "  <div id=\"df-ce54a7f0-17c4-413c-b3d0-cbe6a0c6472b\">\n",
              "    <div class=\"colab-df-container\">\n",
              "      <div>\n",
              "<style scoped>\n",
              "    .dataframe tbody tr th:only-of-type {\n",
              "        vertical-align: middle;\n",
              "    }\n",
              "\n",
              "    .dataframe tbody tr th {\n",
              "        vertical-align: top;\n",
              "    }\n",
              "\n",
              "    .dataframe thead th {\n",
              "        text-align: right;\n",
              "    }\n",
              "</style>\n",
              "<table border=\"1\" class=\"dataframe\">\n",
              "  <thead>\n",
              "    <tr style=\"text-align: right;\">\n",
              "      <th></th>\n",
              "      <th>Fault</th>\n",
              "      <th>Diagnostic</th>\n",
              "      <th>Corrective Action</th>\n",
              "      <th>PLC</th>\n",
              "      <th>Model</th>\n",
              "    </tr>\n",
              "  </thead>\n",
              "  <tbody>\n",
              "    <tr>\n",
              "      <th>0</th>\n",
              "      <td>cracked glass failure</td>\n",
              "      <td>broken or cracked glass electrode</td>\n",
              "      <td>replace electrode if cracked</td>\n",
              "      <td>emerson</td>\n",
              "      <td>model e</td>\n",
              "    </tr>\n",
              "    <tr>\n",
              "      <th>1</th>\n",
              "      <td>cracked glass failure</td>\n",
              "      <td>broken or cracked glass electrode</td>\n",
              "      <td>check wiring for short</td>\n",
              "      <td>emerson</td>\n",
              "      <td>model e</td>\n",
              "    </tr>\n",
              "    <tr>\n",
              "      <th>2</th>\n",
              "      <td>zero offset error</td>\n",
              "      <td>reference electrode poisoned</td>\n",
              "      <td>replace reference electorode</td>\n",
              "      <td>emerson</td>\n",
              "      <td>model e</td>\n",
              "    </tr>\n",
              "    <tr>\n",
              "      <th>3</th>\n",
              "      <td>high reference imped</td>\n",
              "      <td>coated reference electrode</td>\n",
              "      <td>clean electrode as instructed in sensor manual</td>\n",
              "      <td>emerson</td>\n",
              "      <td>model e</td>\n",
              "    </tr>\n",
              "    <tr>\n",
              "      <th>4</th>\n",
              "      <td>high reference imped</td>\n",
              "      <td>sensor out of process</td>\n",
              "      <td>clean electrode as instructed in sensor manual</td>\n",
              "      <td>emerson</td>\n",
              "      <td>model e</td>\n",
              "    </tr>\n",
              "  </tbody>\n",
              "</table>\n",
              "</div>\n",
              "      <button class=\"colab-df-convert\" onclick=\"convertToInteractive('df-ce54a7f0-17c4-413c-b3d0-cbe6a0c6472b')\"\n",
              "              title=\"Convert this dataframe to an interactive table.\"\n",
              "              style=\"display:none;\">\n",
              "        \n",
              "  <svg xmlns=\"http://www.w3.org/2000/svg\" height=\"24px\"viewBox=\"0 0 24 24\"\n",
              "       width=\"24px\">\n",
              "    <path d=\"M0 0h24v24H0V0z\" fill=\"none\"/>\n",
              "    <path d=\"M18.56 5.44l.94 2.06.94-2.06 2.06-.94-2.06-.94-.94-2.06-.94 2.06-2.06.94zm-11 1L8.5 8.5l.94-2.06 2.06-.94-2.06-.94L8.5 2.5l-.94 2.06-2.06.94zm10 10l.94 2.06.94-2.06 2.06-.94-2.06-.94-.94-2.06-.94 2.06-2.06.94z\"/><path d=\"M17.41 7.96l-1.37-1.37c-.4-.4-.92-.59-1.43-.59-.52 0-1.04.2-1.43.59L10.3 9.45l-7.72 7.72c-.78.78-.78 2.05 0 2.83L4 21.41c.39.39.9.59 1.41.59.51 0 1.02-.2 1.41-.59l7.78-7.78 2.81-2.81c.8-.78.8-2.07 0-2.86zM5.41 20L4 18.59l7.72-7.72 1.47 1.35L5.41 20z\"/>\n",
              "  </svg>\n",
              "      </button>\n",
              "      \n",
              "  <style>\n",
              "    .colab-df-container {\n",
              "      display:flex;\n",
              "      flex-wrap:wrap;\n",
              "      gap: 12px;\n",
              "    }\n",
              "\n",
              "    .colab-df-convert {\n",
              "      background-color: #E8F0FE;\n",
              "      border: none;\n",
              "      border-radius: 50%;\n",
              "      cursor: pointer;\n",
              "      display: none;\n",
              "      fill: #1967D2;\n",
              "      height: 32px;\n",
              "      padding: 0 0 0 0;\n",
              "      width: 32px;\n",
              "    }\n",
              "\n",
              "    .colab-df-convert:hover {\n",
              "      background-color: #E2EBFA;\n",
              "      box-shadow: 0px 1px 2px rgba(60, 64, 67, 0.3), 0px 1px 3px 1px rgba(60, 64, 67, 0.15);\n",
              "      fill: #174EA6;\n",
              "    }\n",
              "\n",
              "    [theme=dark] .colab-df-convert {\n",
              "      background-color: #3B4455;\n",
              "      fill: #D2E3FC;\n",
              "    }\n",
              "\n",
              "    [theme=dark] .colab-df-convert:hover {\n",
              "      background-color: #434B5C;\n",
              "      box-shadow: 0px 1px 3px 1px rgba(0, 0, 0, 0.15);\n",
              "      filter: drop-shadow(0px 1px 2px rgba(0, 0, 0, 0.3));\n",
              "      fill: #FFFFFF;\n",
              "    }\n",
              "  </style>\n",
              "\n",
              "      <script>\n",
              "        const buttonEl =\n",
              "          document.querySelector('#df-ce54a7f0-17c4-413c-b3d0-cbe6a0c6472b button.colab-df-convert');\n",
              "        buttonEl.style.display =\n",
              "          google.colab.kernel.accessAllowed ? 'block' : 'none';\n",
              "\n",
              "        async function convertToInteractive(key) {\n",
              "          const element = document.querySelector('#df-ce54a7f0-17c4-413c-b3d0-cbe6a0c6472b');\n",
              "          const dataTable =\n",
              "            await google.colab.kernel.invokeFunction('convertToInteractive',\n",
              "                                                     [key], {});\n",
              "          if (!dataTable) return;\n",
              "\n",
              "          const docLinkHtml = 'Like what you see? Visit the ' +\n",
              "            '<a target=\"_blank\" href=https://colab.research.google.com/notebooks/data_table.ipynb>data table notebook</a>'\n",
              "            + ' to learn more about interactive tables.';\n",
              "          element.innerHTML = '';\n",
              "          dataTable['output_type'] = 'display_data';\n",
              "          await google.colab.output.renderOutput(dataTable, element);\n",
              "          const docLink = document.createElement('div');\n",
              "          docLink.innerHTML = docLinkHtml;\n",
              "          element.appendChild(docLink);\n",
              "        }\n",
              "      </script>\n",
              "    </div>\n",
              "  </div>\n",
              "  "
            ]
          },
          "metadata": {},
          "execution_count": 44
        }
      ]
    },
    {
      "cell_type": "code",
      "source": [
        "df"
      ],
      "metadata": {
        "colab": {
          "base_uri": "https://localhost:8080/",
          "height": 641
        },
        "id": "filSS0LhirTo",
        "outputId": "a6c57e76-37e8-4f30-9c26-3208cefa17fb"
      },
      "execution_count": 45,
      "outputs": [
        {
          "output_type": "execute_result",
          "data": {
            "text/plain": [
              "                          Fault  \\\n",
              "0         cracked glass failure   \n",
              "1         cracked glass failure   \n",
              "2             zero offset error   \n",
              "3          high reference imped   \n",
              "4          high reference imped   \n",
              "...                         ...   \n",
              "1393         bolock input error   \n",
              "1394             wiring problem   \n",
              "1395             wiring problem   \n",
              "1396             wiring problem   \n",
              "1397  as interface voltage fail   \n",
              "\n",
              "                                             Diagnostic  \\\n",
              "0                     broken or cracked glass electrode   \n",
              "1                     broken or cracked glass electrode   \n",
              "2                          reference electrode poisoned   \n",
              "3                            coated reference electrode   \n",
              "4                                 sensor out of process   \n",
              "...                                                 ...   \n",
              "1393  insufficient memory space cannot add a block t...   \n",
              "1394  physical cable connections from the end device...   \n",
              "1395  there is no appropriate conductor crosssection...   \n",
              "1396            cable length exceeds the specifications   \n",
              "1397  communication between the logo system and the ...   \n",
              "\n",
              "                                      Corrective Action      PLC    Model  \n",
              "0                          replace electrode if cracked  emerson  model e  \n",
              "1                                check wiring for short  emerson  model e  \n",
              "2                          replace reference electorode  emerson  model e  \n",
              "3        clean electrode as instructed in sensor manual  emerson  model e  \n",
              "4        clean electrode as instructed in sensor manual  emerson  model e  \n",
              "...                                                 ...      ...      ...  \n",
              "1393                          increase the memory space  siemens     logo  \n",
              "1394  use the proper physical cable connections from...  siemens     logo  \n",
              "1395  make sure you use cables with appropriate cond...  siemens     logo  \n",
              "1396  make sure the cable length does not exceed spe...  siemens     logo  \n",
              "1397  position logo cm as interface on the far right...  siemens     logo  \n",
              "\n",
              "[1398 rows x 5 columns]"
            ],
            "text/html": [
              "\n",
              "  <div id=\"df-731a4ebb-6158-4a5a-bcab-88bd000dbf00\">\n",
              "    <div class=\"colab-df-container\">\n",
              "      <div>\n",
              "<style scoped>\n",
              "    .dataframe tbody tr th:only-of-type {\n",
              "        vertical-align: middle;\n",
              "    }\n",
              "\n",
              "    .dataframe tbody tr th {\n",
              "        vertical-align: top;\n",
              "    }\n",
              "\n",
              "    .dataframe thead th {\n",
              "        text-align: right;\n",
              "    }\n",
              "</style>\n",
              "<table border=\"1\" class=\"dataframe\">\n",
              "  <thead>\n",
              "    <tr style=\"text-align: right;\">\n",
              "      <th></th>\n",
              "      <th>Fault</th>\n",
              "      <th>Diagnostic</th>\n",
              "      <th>Corrective Action</th>\n",
              "      <th>PLC</th>\n",
              "      <th>Model</th>\n",
              "    </tr>\n",
              "  </thead>\n",
              "  <tbody>\n",
              "    <tr>\n",
              "      <th>0</th>\n",
              "      <td>cracked glass failure</td>\n",
              "      <td>broken or cracked glass electrode</td>\n",
              "      <td>replace electrode if cracked</td>\n",
              "      <td>emerson</td>\n",
              "      <td>model e</td>\n",
              "    </tr>\n",
              "    <tr>\n",
              "      <th>1</th>\n",
              "      <td>cracked glass failure</td>\n",
              "      <td>broken or cracked glass electrode</td>\n",
              "      <td>check wiring for short</td>\n",
              "      <td>emerson</td>\n",
              "      <td>model e</td>\n",
              "    </tr>\n",
              "    <tr>\n",
              "      <th>2</th>\n",
              "      <td>zero offset error</td>\n",
              "      <td>reference electrode poisoned</td>\n",
              "      <td>replace reference electorode</td>\n",
              "      <td>emerson</td>\n",
              "      <td>model e</td>\n",
              "    </tr>\n",
              "    <tr>\n",
              "      <th>3</th>\n",
              "      <td>high reference imped</td>\n",
              "      <td>coated reference electrode</td>\n",
              "      <td>clean electrode as instructed in sensor manual</td>\n",
              "      <td>emerson</td>\n",
              "      <td>model e</td>\n",
              "    </tr>\n",
              "    <tr>\n",
              "      <th>4</th>\n",
              "      <td>high reference imped</td>\n",
              "      <td>sensor out of process</td>\n",
              "      <td>clean electrode as instructed in sensor manual</td>\n",
              "      <td>emerson</td>\n",
              "      <td>model e</td>\n",
              "    </tr>\n",
              "    <tr>\n",
              "      <th>...</th>\n",
              "      <td>...</td>\n",
              "      <td>...</td>\n",
              "      <td>...</td>\n",
              "      <td>...</td>\n",
              "      <td>...</td>\n",
              "    </tr>\n",
              "    <tr>\n",
              "      <th>1393</th>\n",
              "      <td>bolock input error</td>\n",
              "      <td>insufficient memory space cannot add a block t...</td>\n",
              "      <td>increase the memory space</td>\n",
              "      <td>siemens</td>\n",
              "      <td>logo</td>\n",
              "    </tr>\n",
              "    <tr>\n",
              "      <th>1394</th>\n",
              "      <td>wiring problem</td>\n",
              "      <td>physical cable connections from the end device...</td>\n",
              "      <td>use the proper physical cable connections from...</td>\n",
              "      <td>siemens</td>\n",
              "      <td>logo</td>\n",
              "    </tr>\n",
              "    <tr>\n",
              "      <th>1395</th>\n",
              "      <td>wiring problem</td>\n",
              "      <td>there is no appropriate conductor crosssection...</td>\n",
              "      <td>make sure you use cables with appropriate cond...</td>\n",
              "      <td>siemens</td>\n",
              "      <td>logo</td>\n",
              "    </tr>\n",
              "    <tr>\n",
              "      <th>1396</th>\n",
              "      <td>wiring problem</td>\n",
              "      <td>cable length exceeds the specifications</td>\n",
              "      <td>make sure the cable length does not exceed spe...</td>\n",
              "      <td>siemens</td>\n",
              "      <td>logo</td>\n",
              "    </tr>\n",
              "    <tr>\n",
              "      <th>1397</th>\n",
              "      <td>as interface voltage fail</td>\n",
              "      <td>communication between the logo system and the ...</td>\n",
              "      <td>position logo cm as interface on the far right...</td>\n",
              "      <td>siemens</td>\n",
              "      <td>logo</td>\n",
              "    </tr>\n",
              "  </tbody>\n",
              "</table>\n",
              "<p>1398 rows × 5 columns</p>\n",
              "</div>\n",
              "      <button class=\"colab-df-convert\" onclick=\"convertToInteractive('df-731a4ebb-6158-4a5a-bcab-88bd000dbf00')\"\n",
              "              title=\"Convert this dataframe to an interactive table.\"\n",
              "              style=\"display:none;\">\n",
              "        \n",
              "  <svg xmlns=\"http://www.w3.org/2000/svg\" height=\"24px\"viewBox=\"0 0 24 24\"\n",
              "       width=\"24px\">\n",
              "    <path d=\"M0 0h24v24H0V0z\" fill=\"none\"/>\n",
              "    <path d=\"M18.56 5.44l.94 2.06.94-2.06 2.06-.94-2.06-.94-.94-2.06-.94 2.06-2.06.94zm-11 1L8.5 8.5l.94-2.06 2.06-.94-2.06-.94L8.5 2.5l-.94 2.06-2.06.94zm10 10l.94 2.06.94-2.06 2.06-.94-2.06-.94-.94-2.06-.94 2.06-2.06.94z\"/><path d=\"M17.41 7.96l-1.37-1.37c-.4-.4-.92-.59-1.43-.59-.52 0-1.04.2-1.43.59L10.3 9.45l-7.72 7.72c-.78.78-.78 2.05 0 2.83L4 21.41c.39.39.9.59 1.41.59.51 0 1.02-.2 1.41-.59l7.78-7.78 2.81-2.81c.8-.78.8-2.07 0-2.86zM5.41 20L4 18.59l7.72-7.72 1.47 1.35L5.41 20z\"/>\n",
              "  </svg>\n",
              "      </button>\n",
              "      \n",
              "  <style>\n",
              "    .colab-df-container {\n",
              "      display:flex;\n",
              "      flex-wrap:wrap;\n",
              "      gap: 12px;\n",
              "    }\n",
              "\n",
              "    .colab-df-convert {\n",
              "      background-color: #E8F0FE;\n",
              "      border: none;\n",
              "      border-radius: 50%;\n",
              "      cursor: pointer;\n",
              "      display: none;\n",
              "      fill: #1967D2;\n",
              "      height: 32px;\n",
              "      padding: 0 0 0 0;\n",
              "      width: 32px;\n",
              "    }\n",
              "\n",
              "    .colab-df-convert:hover {\n",
              "      background-color: #E2EBFA;\n",
              "      box-shadow: 0px 1px 2px rgba(60, 64, 67, 0.3), 0px 1px 3px 1px rgba(60, 64, 67, 0.15);\n",
              "      fill: #174EA6;\n",
              "    }\n",
              "\n",
              "    [theme=dark] .colab-df-convert {\n",
              "      background-color: #3B4455;\n",
              "      fill: #D2E3FC;\n",
              "    }\n",
              "\n",
              "    [theme=dark] .colab-df-convert:hover {\n",
              "      background-color: #434B5C;\n",
              "      box-shadow: 0px 1px 3px 1px rgba(0, 0, 0, 0.15);\n",
              "      filter: drop-shadow(0px 1px 2px rgba(0, 0, 0, 0.3));\n",
              "      fill: #FFFFFF;\n",
              "    }\n",
              "  </style>\n",
              "\n",
              "      <script>\n",
              "        const buttonEl =\n",
              "          document.querySelector('#df-731a4ebb-6158-4a5a-bcab-88bd000dbf00 button.colab-df-convert');\n",
              "        buttonEl.style.display =\n",
              "          google.colab.kernel.accessAllowed ? 'block' : 'none';\n",
              "\n",
              "        async function convertToInteractive(key) {\n",
              "          const element = document.querySelector('#df-731a4ebb-6158-4a5a-bcab-88bd000dbf00');\n",
              "          const dataTable =\n",
              "            await google.colab.kernel.invokeFunction('convertToInteractive',\n",
              "                                                     [key], {});\n",
              "          if (!dataTable) return;\n",
              "\n",
              "          const docLinkHtml = 'Like what you see? Visit the ' +\n",
              "            '<a target=\"_blank\" href=https://colab.research.google.com/notebooks/data_table.ipynb>data table notebook</a>'\n",
              "            + ' to learn more about interactive tables.';\n",
              "          element.innerHTML = '';\n",
              "          dataTable['output_type'] = 'display_data';\n",
              "          await google.colab.output.renderOutput(dataTable, element);\n",
              "          const docLink = document.createElement('div');\n",
              "          docLink.innerHTML = docLinkHtml;\n",
              "          element.appendChild(docLink);\n",
              "        }\n",
              "      </script>\n",
              "    </div>\n",
              "  </div>\n",
              "  "
            ]
          },
          "metadata": {},
          "execution_count": 45
        }
      ]
    },
    {
      "cell_type": "code",
      "source": [
        "df.dropna(inplace=True)"
      ],
      "metadata": {
        "id": "5qp7oX93kMl-"
      },
      "execution_count": 48,
      "outputs": []
    },
    {
      "cell_type": "code",
      "source": [
        "import spacy\n",
        "\n",
        "# Load the English model\n",
        "nlp = spacy.load(\"en_core_web_sm\")\n",
        "\n",
        "# Define a function to lemmatize the text\n",
        "def lemmatize_text(text):\n",
        "    doc = nlp(text)\n",
        "    return \" \".join([token.lemma_ for token in doc])\n",
        "\n",
        "# Apply the lemmatization function to each row of the dataframe\n",
        "df[\"Diagnostic\"] = df[\"Diagnostic\"].apply(lemmatize_text)\n",
        "df[\"Corrective Action\"] = df[\"Corrective Action\"].apply(lemmatize_text)\n",
        "df[\"Fault\"] = df[\"Fault\"].apply(lemmatize_text)\n",
        "df[\"PLC\"] = df[\"PLC\"].apply(lemmatize_text)\n",
        "df[\"Model\"] = df[\"Model\"].apply(lemmatize_text)"
      ],
      "metadata": {
        "id": "D6pDXI0Vjw09"
      },
      "execution_count": 49,
      "outputs": []
    },
    {
      "cell_type": "code",
      "source": [
        "df.sample(8)"
      ],
      "metadata": {
        "colab": {
          "base_uri": "https://localhost:8080/",
          "height": 466
        },
        "id": "M62TDsH0ky0E",
        "outputId": "19a2a248-5949-4778-a732-5191987b907f"
      },
      "execution_count": 52,
      "outputs": [
        {
          "output_type": "execute_result",
          "data": {
            "text/plain": [
              "                                                  Fault  \\\n",
              "234                not repairable internal system error   \n",
              "1271                                        badpassword   \n",
              "858                              packet capture problem   \n",
              "306      the internet explorer be not instal in your pc   \n",
              "113                        detail d can not load sdb xx   \n",
              "190   the distribute io system datum block be struct...   \n",
              "1120               information of security level timeup   \n",
              "837   a device can be discover but can not be access...   \n",
              "\n",
              "                                             Diagnostic  \\\n",
              "234   the link could not be insert link be distort i...   \n",
              "1271  the password define for the remote access serv...   \n",
              "858   packet from the device be analyze be not captu...   \n",
              "306   the online help be start and the internet expl...   \n",
              "113   h connection be configure in your project the ...   \n",
              "190   a diagnostic address outside the address area ...   \n",
              "1120              the security level have not be revert   \n",
              "837                          incorrect community string   \n",
              "\n",
              "                                      Corrective Action        PLC  \\\n",
              "234   use the function save as together with the opt...     siemen   \n",
              "1271  define the password again both on the provider...        abb   \n",
              "858   to allow the packet capture tool to see the pa...  schneider   \n",
              "306                                      reinstall step     siemen   \n",
              "113   in the simatic manager delete the system datum...     siemen   \n",
              "190                       change the diagnostic address     siemen   \n",
              "1120                       revert the security level to   yokogawa   \n",
              "837   the read string must be correct to read datum ...  schneider   \n",
              "\n",
              "            Model  \n",
              "234          step  \n",
              "1271           xa  \n",
              "858   modicon tsx  \n",
              "306          step  \n",
              "113          step  \n",
              "190          step  \n",
              "1120       centum  \n",
              "837   modicon tsx  "
            ],
            "text/html": [
              "\n",
              "  <div id=\"df-fc344253-ebfc-4748-a75a-d30b5833f4e9\">\n",
              "    <div class=\"colab-df-container\">\n",
              "      <div>\n",
              "<style scoped>\n",
              "    .dataframe tbody tr th:only-of-type {\n",
              "        vertical-align: middle;\n",
              "    }\n",
              "\n",
              "    .dataframe tbody tr th {\n",
              "        vertical-align: top;\n",
              "    }\n",
              "\n",
              "    .dataframe thead th {\n",
              "        text-align: right;\n",
              "    }\n",
              "</style>\n",
              "<table border=\"1\" class=\"dataframe\">\n",
              "  <thead>\n",
              "    <tr style=\"text-align: right;\">\n",
              "      <th></th>\n",
              "      <th>Fault</th>\n",
              "      <th>Diagnostic</th>\n",
              "      <th>Corrective Action</th>\n",
              "      <th>PLC</th>\n",
              "      <th>Model</th>\n",
              "    </tr>\n",
              "  </thead>\n",
              "  <tbody>\n",
              "    <tr>\n",
              "      <th>234</th>\n",
              "      <td>not repairable internal system error</td>\n",
              "      <td>the link could not be insert link be distort i...</td>\n",
              "      <td>use the function save as together with the opt...</td>\n",
              "      <td>siemen</td>\n",
              "      <td>step</td>\n",
              "    </tr>\n",
              "    <tr>\n",
              "      <th>1271</th>\n",
              "      <td>badpassword</td>\n",
              "      <td>the password define for the remote access serv...</td>\n",
              "      <td>define the password again both on the provider...</td>\n",
              "      <td>abb</td>\n",
              "      <td>xa</td>\n",
              "    </tr>\n",
              "    <tr>\n",
              "      <th>858</th>\n",
              "      <td>packet capture problem</td>\n",
              "      <td>packet from the device be analyze be not captu...</td>\n",
              "      <td>to allow the packet capture tool to see the pa...</td>\n",
              "      <td>schneider</td>\n",
              "      <td>modicon tsx</td>\n",
              "    </tr>\n",
              "    <tr>\n",
              "      <th>306</th>\n",
              "      <td>the internet explorer be not instal in your pc</td>\n",
              "      <td>the online help be start and the internet expl...</td>\n",
              "      <td>reinstall step</td>\n",
              "      <td>siemen</td>\n",
              "      <td>step</td>\n",
              "    </tr>\n",
              "    <tr>\n",
              "      <th>113</th>\n",
              "      <td>detail d can not load sdb xx</td>\n",
              "      <td>h connection be configure in your project the ...</td>\n",
              "      <td>in the simatic manager delete the system datum...</td>\n",
              "      <td>siemen</td>\n",
              "      <td>step</td>\n",
              "    </tr>\n",
              "    <tr>\n",
              "      <th>190</th>\n",
              "      <td>the distribute io system datum block be struct...</td>\n",
              "      <td>a diagnostic address outside the address area ...</td>\n",
              "      <td>change the diagnostic address</td>\n",
              "      <td>siemen</td>\n",
              "      <td>step</td>\n",
              "    </tr>\n",
              "    <tr>\n",
              "      <th>1120</th>\n",
              "      <td>information of security level timeup</td>\n",
              "      <td>the security level have not be revert</td>\n",
              "      <td>revert the security level to</td>\n",
              "      <td>yokogawa</td>\n",
              "      <td>centum</td>\n",
              "    </tr>\n",
              "    <tr>\n",
              "      <th>837</th>\n",
              "      <td>a device can be discover but can not be access...</td>\n",
              "      <td>incorrect community string</td>\n",
              "      <td>the read string must be correct to read datum ...</td>\n",
              "      <td>schneider</td>\n",
              "      <td>modicon tsx</td>\n",
              "    </tr>\n",
              "  </tbody>\n",
              "</table>\n",
              "</div>\n",
              "      <button class=\"colab-df-convert\" onclick=\"convertToInteractive('df-fc344253-ebfc-4748-a75a-d30b5833f4e9')\"\n",
              "              title=\"Convert this dataframe to an interactive table.\"\n",
              "              style=\"display:none;\">\n",
              "        \n",
              "  <svg xmlns=\"http://www.w3.org/2000/svg\" height=\"24px\"viewBox=\"0 0 24 24\"\n",
              "       width=\"24px\">\n",
              "    <path d=\"M0 0h24v24H0V0z\" fill=\"none\"/>\n",
              "    <path d=\"M18.56 5.44l.94 2.06.94-2.06 2.06-.94-2.06-.94-.94-2.06-.94 2.06-2.06.94zm-11 1L8.5 8.5l.94-2.06 2.06-.94-2.06-.94L8.5 2.5l-.94 2.06-2.06.94zm10 10l.94 2.06.94-2.06 2.06-.94-2.06-.94-.94-2.06-.94 2.06-2.06.94z\"/><path d=\"M17.41 7.96l-1.37-1.37c-.4-.4-.92-.59-1.43-.59-.52 0-1.04.2-1.43.59L10.3 9.45l-7.72 7.72c-.78.78-.78 2.05 0 2.83L4 21.41c.39.39.9.59 1.41.59.51 0 1.02-.2 1.41-.59l7.78-7.78 2.81-2.81c.8-.78.8-2.07 0-2.86zM5.41 20L4 18.59l7.72-7.72 1.47 1.35L5.41 20z\"/>\n",
              "  </svg>\n",
              "      </button>\n",
              "      \n",
              "  <style>\n",
              "    .colab-df-container {\n",
              "      display:flex;\n",
              "      flex-wrap:wrap;\n",
              "      gap: 12px;\n",
              "    }\n",
              "\n",
              "    .colab-df-convert {\n",
              "      background-color: #E8F0FE;\n",
              "      border: none;\n",
              "      border-radius: 50%;\n",
              "      cursor: pointer;\n",
              "      display: none;\n",
              "      fill: #1967D2;\n",
              "      height: 32px;\n",
              "      padding: 0 0 0 0;\n",
              "      width: 32px;\n",
              "    }\n",
              "\n",
              "    .colab-df-convert:hover {\n",
              "      background-color: #E2EBFA;\n",
              "      box-shadow: 0px 1px 2px rgba(60, 64, 67, 0.3), 0px 1px 3px 1px rgba(60, 64, 67, 0.15);\n",
              "      fill: #174EA6;\n",
              "    }\n",
              "\n",
              "    [theme=dark] .colab-df-convert {\n",
              "      background-color: #3B4455;\n",
              "      fill: #D2E3FC;\n",
              "    }\n",
              "\n",
              "    [theme=dark] .colab-df-convert:hover {\n",
              "      background-color: #434B5C;\n",
              "      box-shadow: 0px 1px 3px 1px rgba(0, 0, 0, 0.15);\n",
              "      filter: drop-shadow(0px 1px 2px rgba(0, 0, 0, 0.3));\n",
              "      fill: #FFFFFF;\n",
              "    }\n",
              "  </style>\n",
              "\n",
              "      <script>\n",
              "        const buttonEl =\n",
              "          document.querySelector('#df-fc344253-ebfc-4748-a75a-d30b5833f4e9 button.colab-df-convert');\n",
              "        buttonEl.style.display =\n",
              "          google.colab.kernel.accessAllowed ? 'block' : 'none';\n",
              "\n",
              "        async function convertToInteractive(key) {\n",
              "          const element = document.querySelector('#df-fc344253-ebfc-4748-a75a-d30b5833f4e9');\n",
              "          const dataTable =\n",
              "            await google.colab.kernel.invokeFunction('convertToInteractive',\n",
              "                                                     [key], {});\n",
              "          if (!dataTable) return;\n",
              "\n",
              "          const docLinkHtml = 'Like what you see? Visit the ' +\n",
              "            '<a target=\"_blank\" href=https://colab.research.google.com/notebooks/data_table.ipynb>data table notebook</a>'\n",
              "            + ' to learn more about interactive tables.';\n",
              "          element.innerHTML = '';\n",
              "          dataTable['output_type'] = 'display_data';\n",
              "          await google.colab.output.renderOutput(dataTable, element);\n",
              "          const docLink = document.createElement('div');\n",
              "          docLink.innerHTML = docLinkHtml;\n",
              "          element.appendChild(docLink);\n",
              "        }\n",
              "      </script>\n",
              "    </div>\n",
              "  </div>\n",
              "  "
            ]
          },
          "metadata": {},
          "execution_count": 52
        }
      ]
    },
    {
      "cell_type": "code",
      "source": [
        "from google.colab import files\n",
        "df.to_csv(\"PLC_dataset_new.csv\")\n",
        "files.download(\"PLC_dataset_new.csv\")"
      ],
      "metadata": {
        "id": "hXFcvxyIvw7c",
        "outputId": "3f50d885-5059-4acc-99b5-1bd5734d81f9",
        "colab": {
          "base_uri": "https://localhost:8080/",
          "height": 17
        }
      },
      "execution_count": 63,
      "outputs": [
        {
          "output_type": "display_data",
          "data": {
            "text/plain": [
              "<IPython.core.display.Javascript object>"
            ],
            "application/javascript": [
              "\n",
              "    async function download(id, filename, size) {\n",
              "      if (!google.colab.kernel.accessAllowed) {\n",
              "        return;\n",
              "      }\n",
              "      const div = document.createElement('div');\n",
              "      const label = document.createElement('label');\n",
              "      label.textContent = `Downloading \"${filename}\": `;\n",
              "      div.appendChild(label);\n",
              "      const progress = document.createElement('progress');\n",
              "      progress.max = size;\n",
              "      div.appendChild(progress);\n",
              "      document.body.appendChild(div);\n",
              "\n",
              "      const buffers = [];\n",
              "      let downloaded = 0;\n",
              "\n",
              "      const channel = await google.colab.kernel.comms.open(id);\n",
              "      // Send a message to notify the kernel that we're ready.\n",
              "      channel.send({})\n",
              "\n",
              "      for await (const message of channel.messages) {\n",
              "        // Send a message to notify the kernel that we're ready.\n",
              "        channel.send({})\n",
              "        if (message.buffers) {\n",
              "          for (const buffer of message.buffers) {\n",
              "            buffers.push(buffer);\n",
              "            downloaded += buffer.byteLength;\n",
              "            progress.value = downloaded;\n",
              "          }\n",
              "        }\n",
              "      }\n",
              "      const blob = new Blob(buffers, {type: 'application/binary'});\n",
              "      const a = document.createElement('a');\n",
              "      a.href = window.URL.createObjectURL(blob);\n",
              "      a.download = filename;\n",
              "      div.appendChild(a);\n",
              "      a.click();\n",
              "      div.remove();\n",
              "    }\n",
              "  "
            ]
          },
          "metadata": {}
        },
        {
          "output_type": "display_data",
          "data": {
            "text/plain": [
              "<IPython.core.display.Javascript object>"
            ],
            "application/javascript": [
              "download(\"download_3b4b8ed5-58ce-4daf-9723-c0a81849dba6\", \"PLC_dataset_new.csv\", 306381)"
            ]
          },
          "metadata": {}
        }
      ]
    },
    {
      "cell_type": "code",
      "source": [
        "print(df[\"PLC\"].nunique())\n",
        "print(df[\"Model\"].nunique())"
      ],
      "metadata": {
        "id": "dvj9TMrG6P6j",
        "outputId": "a8391595-e5cb-400b-f482-359609733224",
        "colab": {
          "base_uri": "https://localhost:8080/"
        }
      },
      "execution_count": 77,
      "outputs": [
        {
          "output_type": "stream",
          "name": "stdout",
          "text": [
            "12\n",
            "18\n"
          ]
        }
      ]
    },
    {
      "cell_type": "code",
      "source": [
        "from sklearn.feature_extraction.text import CountVectorizer\n",
        "from sklearn.preprocessing import StandardScaler, OneHotEncoder\n",
        "from sklearn.compose import ColumnTransformer\n",
        "\n",
        "# Initialize the bag-of-words vectorizer\n",
        "vectorizer = CountVectorizer()\n",
        "\n",
        "# Fit the vectorizer to the text data and transform it into a bag-of-words representation\n",
        "X_text = vectorizer.fit_transform(df[\"Fault\"])\n",
        "\n",
        "# Create the column transformer\n",
        "ct = ColumnTransformer(\n",
        "    transformers=[\n",
        "        (\"num\", OneHotEncoder(), [\"PLC\", \"Model\"])\n",
        "    ])\n",
        "# Fit the column transformer to the data and transform it\n",
        "X_numerical = ct.fit_transform(df[[\"PLC\", \"Model\"]])\n",
        "n_encoders = X_numerical.shape[1]\n",
        "\n",
        "# Combine the text and numerical data into a single input array\n",
        "X = np.hstack([X_text.toarray(), X_numerical.reshape(-1, n_encoders)])\n",
        "\n",
        "# Prepare the output data\n",
        "y = df[[\"Diagnostic\", \"Corrective Action\"]]\n",
        "\n"
      ],
      "metadata": {
        "colab": {
          "base_uri": "https://localhost:8080/",
          "height": 443
        },
        "id": "vpY16AlxqS3v",
        "outputId": "dfbf7982-003c-4226-b706-c87f3b41b649"
      },
      "execution_count": 81,
      "outputs": [
        {
          "output_type": "error",
          "ename": "ValueError",
          "evalue": "ignored",
          "traceback": [
            "\u001b[0;31m---------------------------------------------------------------------------\u001b[0m",
            "\u001b[0;31mValueError\u001b[0m                                Traceback (most recent call last)",
            "\u001b[0;32m<ipython-input-81-f35720916a34>\u001b[0m in \u001b[0;36m<module>\u001b[0;34m\u001b[0m\n\u001b[1;32m     19\u001b[0m \u001b[0;34m\u001b[0m\u001b[0m\n\u001b[1;32m     20\u001b[0m \u001b[0;31m# Combine the text and numerical data into a single input array\u001b[0m\u001b[0;34m\u001b[0m\u001b[0;34m\u001b[0m\u001b[0;34m\u001b[0m\u001b[0m\n\u001b[0;32m---> 21\u001b[0;31m \u001b[0mX\u001b[0m \u001b[0;34m=\u001b[0m \u001b[0mnp\u001b[0m\u001b[0;34m.\u001b[0m\u001b[0mhstack\u001b[0m\u001b[0;34m(\u001b[0m\u001b[0;34m[\u001b[0m\u001b[0mX_text\u001b[0m\u001b[0;34m.\u001b[0m\u001b[0mtoarray\u001b[0m\u001b[0;34m(\u001b[0m\u001b[0;34m)\u001b[0m\u001b[0;34m,\u001b[0m \u001b[0mX_numerical\u001b[0m\u001b[0;34m.\u001b[0m\u001b[0mreshape\u001b[0m\u001b[0;34m(\u001b[0m\u001b[0;34m-\u001b[0m\u001b[0;36m1\u001b[0m\u001b[0;34m,\u001b[0m \u001b[0mn_encoders\u001b[0m\u001b[0;34m)\u001b[0m\u001b[0;34m]\u001b[0m\u001b[0;34m)\u001b[0m\u001b[0;34m\u001b[0m\u001b[0;34m\u001b[0m\u001b[0m\n\u001b[0m\u001b[1;32m     22\u001b[0m \u001b[0;34m\u001b[0m\u001b[0m\n\u001b[1;32m     23\u001b[0m \u001b[0;31m# Prepare the output data\u001b[0m\u001b[0;34m\u001b[0m\u001b[0;34m\u001b[0m\u001b[0;34m\u001b[0m\u001b[0m\n",
            "\u001b[0;32m<__array_function__ internals>\u001b[0m in \u001b[0;36mhstack\u001b[0;34m(*args, **kwargs)\u001b[0m\n",
            "\u001b[0;32m/usr/local/lib/python3.8/dist-packages/numpy/core/shape_base.py\u001b[0m in \u001b[0;36mhstack\u001b[0;34m(tup)\u001b[0m\n\u001b[1;32m    343\u001b[0m         \u001b[0;32mreturn\u001b[0m \u001b[0m_nx\u001b[0m\u001b[0;34m.\u001b[0m\u001b[0mconcatenate\u001b[0m\u001b[0;34m(\u001b[0m\u001b[0marrs\u001b[0m\u001b[0;34m,\u001b[0m \u001b[0;36m0\u001b[0m\u001b[0;34m)\u001b[0m\u001b[0;34m\u001b[0m\u001b[0;34m\u001b[0m\u001b[0m\n\u001b[1;32m    344\u001b[0m     \u001b[0;32melse\u001b[0m\u001b[0;34m:\u001b[0m\u001b[0;34m\u001b[0m\u001b[0;34m\u001b[0m\u001b[0m\n\u001b[0;32m--> 345\u001b[0;31m         \u001b[0;32mreturn\u001b[0m \u001b[0m_nx\u001b[0m\u001b[0;34m.\u001b[0m\u001b[0mconcatenate\u001b[0m\u001b[0;34m(\u001b[0m\u001b[0marrs\u001b[0m\u001b[0;34m,\u001b[0m \u001b[0;36m1\u001b[0m\u001b[0;34m)\u001b[0m\u001b[0;34m\u001b[0m\u001b[0;34m\u001b[0m\u001b[0m\n\u001b[0m\u001b[1;32m    346\u001b[0m \u001b[0;34m\u001b[0m\u001b[0m\n\u001b[1;32m    347\u001b[0m \u001b[0;34m\u001b[0m\u001b[0m\n",
            "\u001b[0;32m<__array_function__ internals>\u001b[0m in \u001b[0;36mconcatenate\u001b[0;34m(*args, **kwargs)\u001b[0m\n",
            "\u001b[0;31mValueError\u001b[0m: all the input arrays must have same number of dimensions, but the array at index 0 has 2 dimension(s) and the array at index 1 has 1 dimension(s)"
          ]
        }
      ]
    },
    {
      "cell_type": "code",
      "source": [],
      "metadata": {
        "id": "EmW3jRYtqS0m"
      },
      "execution_count": null,
      "outputs": []
    },
    {
      "cell_type": "code",
      "source": [],
      "metadata": {
        "id": "v8eSe0SXqSuh"
      },
      "execution_count": null,
      "outputs": []
    },
    {
      "cell_type": "code",
      "source": [],
      "metadata": {
        "id": "5-MHIPeKqSjz"
      },
      "execution_count": null,
      "outputs": []
    },
    {
      "cell_type": "code",
      "source": [
        "!pip install streamlit --quiet\n",
        "! pip install pyngrok --quiet"
      ],
      "metadata": {
        "id": "fjqpTyzRnkVB"
      },
      "execution_count": 53,
      "outputs": []
    },
    {
      "cell_type": "code",
      "source": [
        "%%writefile app.py\n",
        "import streamlit as st\n",
        "st.write(\"# PLC Fault Prediction\")\n",
        "st.text_input(\"Enter the PLC:\")\n",
        "st.text_input(\"Enter the Model:\")\n",
        "st.text_input(\"Enter the paper Fault:\")"
      ],
      "metadata": {
        "colab": {
          "base_uri": "https://localhost:8080/"
        },
        "id": "0J_HtsikoTB1",
        "outputId": "9c6b65d7-041d-490d-8094-45445ab35214"
      },
      "execution_count": 62,
      "outputs": [
        {
          "output_type": "stream",
          "name": "stdout",
          "text": [
            "Overwriting app.py\n"
          ]
        }
      ]
    },
    {
      "cell_type": "code",
      "source": [
        "from pyngrok import ngrok\n",
        "\n",
        "ngrok.set_auth_token(\"2LArVCZnMmuPMV0uYjEx4zAOSpx_6AiMAuvnRpVMQxFzSkvaE\") \n",
        "\n",
        "!nohup streamlit run app.py --server.port 80 & --quiet\n",
        "url = ngrok.connect(port = '80')\n",
        "print(url)"
      ],
      "metadata": {
        "colab": {
          "base_uri": "https://localhost:8080/"
        },
        "id": "RyDGdfgunkR5",
        "outputId": "a861c4c4-75c9-451c-a24e-3965c3834beb"
      },
      "execution_count": 58,
      "outputs": [
        {
          "output_type": "stream",
          "name": "stdout",
          "text": [
            "/bin/bash: --quiet: command not found\n",
            "nohup: appending output to 'nohup.out'\n",
            "NgrokTunnel: \"http://6b6c-34-83-144-170.ngrok.io\" -> \"http://localhost:80\"\n"
          ]
        }
      ]
    },
    {
      "cell_type": "code",
      "source": [
        "ngrok.kill()"
      ],
      "metadata": {
        "id": "Qk7T12J8nkPu"
      },
      "execution_count": 82,
      "outputs": []
    },
    {
      "cell_type": "code",
      "source": [],
      "metadata": {
        "id": "AzQn6wlbnkMV"
      },
      "execution_count": null,
      "outputs": []
    },
    {
      "cell_type": "code",
      "source": [],
      "metadata": {
        "id": "-E3vEXaAnkJj"
      },
      "execution_count": null,
      "outputs": []
    },
    {
      "cell_type": "code",
      "source": [],
      "metadata": {
        "id": "WBOZj9q-nkGm"
      },
      "execution_count": null,
      "outputs": []
    },
    {
      "cell_type": "code",
      "source": [],
      "metadata": {
        "id": "3BB8Pg63nkDg"
      },
      "execution_count": null,
      "outputs": []
    },
    {
      "cell_type": "code",
      "source": [],
      "metadata": {
        "id": "KjTTBj9Qnj9a"
      },
      "execution_count": null,
      "outputs": []
    },
    {
      "cell_type": "code",
      "source": [],
      "metadata": {
        "id": "cTUK-YvlI0hB"
      },
      "execution_count": null,
      "outputs": []
    }
  ]
}