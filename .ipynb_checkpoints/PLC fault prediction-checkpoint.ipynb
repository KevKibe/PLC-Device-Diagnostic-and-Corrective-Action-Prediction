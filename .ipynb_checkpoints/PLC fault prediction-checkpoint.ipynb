{
 "cells": [
  {
   "cell_type": "code",
   "execution_count": 1,
   "id": "5532caa7",
   "metadata": {},
   "outputs": [],
   "source": [
    "import pandas as pd\n",
    "import numpy as np"
   ]
  },
  {
   "cell_type": "code",
   "execution_count": 76,
   "id": "d39ed9ac",
   "metadata": {},
   "outputs": [
    {
     "data": {
      "text/html": [
       "<div>\n",
       "<style scoped>\n",
       "    .dataframe tbody tr th:only-of-type {\n",
       "        vertical-align: middle;\n",
       "    }\n",
       "\n",
       "    .dataframe tbody tr th {\n",
       "        vertical-align: top;\n",
       "    }\n",
       "\n",
       "    .dataframe thead th {\n",
       "        text-align: right;\n",
       "    }\n",
       "</style>\n",
       "<table border=\"1\" class=\"dataframe\">\n",
       "  <thead>\n",
       "    <tr style=\"text-align: right;\">\n",
       "      <th></th>\n",
       "      <th>Fault Code</th>\n",
       "      <th>Fault</th>\n",
       "      <th>Diagnostic</th>\n",
       "      <th>Corrective Action</th>\n",
       "      <th>PLC</th>\n",
       "      <th>Model</th>\n",
       "    </tr>\n",
       "  </thead>\n",
       "  <tbody>\n",
       "    <tr>\n",
       "      <th>0</th>\n",
       "      <td>NaN</td>\n",
       "      <td>Cracked glass failure</td>\n",
       "      <td>Broken or cracked glass electrode</td>\n",
       "      <td>Replace electrode if cracked.</td>\n",
       "      <td>Emerson</td>\n",
       "      <td>Model 54e</td>\n",
       "    </tr>\n",
       "    <tr>\n",
       "      <th>1</th>\n",
       "      <td>NaN</td>\n",
       "      <td>Cracked glass failure</td>\n",
       "      <td>Broken or cracked glass electrode</td>\n",
       "      <td>Check wiring for short.</td>\n",
       "      <td>Emerson</td>\n",
       "      <td>Model 54e</td>\n",
       "    </tr>\n",
       "    <tr>\n",
       "      <th>2</th>\n",
       "      <td>NaN</td>\n",
       "      <td>Zero offset error</td>\n",
       "      <td>Reference electrode poisoned</td>\n",
       "      <td>Replace reference electorode</td>\n",
       "      <td>Emerson</td>\n",
       "      <td>Model 54e</td>\n",
       "    </tr>\n",
       "    <tr>\n",
       "      <th>3</th>\n",
       "      <td>NaN</td>\n",
       "      <td>High reference imped</td>\n",
       "      <td>Coated reference electrode</td>\n",
       "      <td>Clean electrode as instructed in sensor manual</td>\n",
       "      <td>Emerson</td>\n",
       "      <td>Model 54e</td>\n",
       "    </tr>\n",
       "    <tr>\n",
       "      <th>4</th>\n",
       "      <td>NaN</td>\n",
       "      <td>High reference imped</td>\n",
       "      <td>Sensor out of process.</td>\n",
       "      <td>Clean electrode as instructed in sensor manual</td>\n",
       "      <td>Emerson</td>\n",
       "      <td>Model 54e</td>\n",
       "    </tr>\n",
       "  </tbody>\n",
       "</table>\n",
       "</div>"
      ],
      "text/plain": [
       "  Fault Code                  Fault                         Diagnostic  \\\n",
       "0        NaN  Cracked glass failure  Broken or cracked glass electrode   \n",
       "1        NaN  Cracked glass failure  Broken or cracked glass electrode   \n",
       "2        NaN      Zero offset error       Reference electrode poisoned   \n",
       "3        NaN   High reference imped         Coated reference electrode   \n",
       "4        NaN   High reference imped             Sensor out of process.   \n",
       "\n",
       "                                Corrective Action      PLC      Model  \n",
       "0                   Replace electrode if cracked.  Emerson  Model 54e  \n",
       "1                         Check wiring for short.  Emerson  Model 54e  \n",
       "2                    Replace reference electorode  Emerson  Model 54e  \n",
       "3  Clean electrode as instructed in sensor manual  Emerson  Model 54e  \n",
       "4  Clean electrode as instructed in sensor manual  Emerson  Model 54e  "
      ]
     },
     "execution_count": 76,
     "metadata": {},
     "output_type": "execute_result"
    }
   ],
   "source": [
    "df= pd.read_excel(r\"C:\\Users\\kibe\\Desktop\\Projects\\PLC project\\PLC Dataset-6.xlsx\")\n",
    "df.head()"
   ]
  },
  {
   "cell_type": "code",
   "execution_count": 77,
   "id": "9f1eca87",
   "metadata": {},
   "outputs": [
    {
     "name": "stdout",
     "output_type": "stream",
     "text": [
      "<class 'pandas.core.frame.DataFrame'>\n",
      "RangeIndex: 1398 entries, 0 to 1397\n",
      "Data columns (total 6 columns):\n",
      " #   Column             Non-Null Count  Dtype \n",
      "---  ------             --------------  ----- \n",
      " 0   Fault Code         1078 non-null   object\n",
      " 1   Fault              1398 non-null   object\n",
      " 2   Diagnostic         1398 non-null   object\n",
      " 3   Corrective Action  1397 non-null   object\n",
      " 4   PLC                1398 non-null   object\n",
      " 5   Model              1398 non-null   object\n",
      "dtypes: object(6)\n",
      "memory usage: 65.7+ KB\n"
     ]
    }
   ],
   "source": [
    "df.info()"
   ]
  },
  {
   "cell_type": "code",
   "execution_count": 78,
   "id": "8cda2518",
   "metadata": {},
   "outputs": [
    {
     "name": "stdout",
     "output_type": "stream",
     "text": [
      "<class 'pandas.core.frame.DataFrame'>\n",
      "RangeIndex: 1398 entries, 0 to 1397\n",
      "Data columns (total 5 columns):\n",
      " #   Column             Non-Null Count  Dtype \n",
      "---  ------             --------------  ----- \n",
      " 0   Fault              1398 non-null   object\n",
      " 1   Diagnostic         1398 non-null   object\n",
      " 2   Corrective Action  1397 non-null   object\n",
      " 3   PLC                1398 non-null   object\n",
      " 4   Model              1398 non-null   object\n",
      "dtypes: object(5)\n",
      "memory usage: 54.7+ KB\n"
     ]
    }
   ],
   "source": [
    "df.drop(['Fault Code'], axis=1, inplace=True)\n",
    "df.info()"
   ]
  },
  {
   "cell_type": "markdown",
   "id": "14e39e09",
   "metadata": {},
   "source": [
    "# Preprocessing"
   ]
  },
  {
   "cell_type": "code",
   "execution_count": 79,
   "id": "87f0300b",
   "metadata": {},
   "outputs": [
    {
     "data": {
      "text/html": [
       "<div>\n",
       "<style scoped>\n",
       "    .dataframe tbody tr th:only-of-type {\n",
       "        vertical-align: middle;\n",
       "    }\n",
       "\n",
       "    .dataframe tbody tr th {\n",
       "        vertical-align: top;\n",
       "    }\n",
       "\n",
       "    .dataframe thead th {\n",
       "        text-align: right;\n",
       "    }\n",
       "</style>\n",
       "<table border=\"1\" class=\"dataframe\">\n",
       "  <thead>\n",
       "    <tr style=\"text-align: right;\">\n",
       "      <th></th>\n",
       "      <th>Fault</th>\n",
       "      <th>Diagnostic</th>\n",
       "      <th>Corrective Action</th>\n",
       "      <th>PLC</th>\n",
       "      <th>Model</th>\n",
       "    </tr>\n",
       "  </thead>\n",
       "  <tbody>\n",
       "    <tr>\n",
       "      <th>526</th>\n",
       "      <td>connection request error module in use</td>\n",
       "      <td>the connection being accessed is already in use</td>\n",
       "      <td>check for these conditions\\n the controller is...</td>\n",
       "      <td>allen bradely</td>\n",
       "      <td>studio  logix designer</td>\n",
       "    </tr>\n",
       "    <tr>\n",
       "      <th>117</th>\n",
       "      <td>parameter can not be controlled</td>\n",
       "      <td>the data block db that is to be controlled is ...</td>\n",
       "      <td>load the db into the relevant cpu</td>\n",
       "      <td>siemens</td>\n",
       "      <td>step</td>\n",
       "    </tr>\n",
       "    <tr>\n",
       "      <th>760</th>\n",
       "      <td>device number</td>\n",
       "      <td>device was selected for synchronization but do...</td>\n",
       "      <td>select a device that supports synchronization ...</td>\n",
       "      <td>phoenix</td>\n",
       "      <td>axc</td>\n",
       "    </tr>\n",
       "    <tr>\n",
       "      <th>522</th>\n",
       "      <td>requested service specifies an operation that ...</td>\n",
       "      <td>the service specified an operation that is goi...</td>\n",
       "      <td>the size of the data being read or written mus...</td>\n",
       "      <td>allen bradely</td>\n",
       "      <td>studio  logix designer</td>\n",
       "    </tr>\n",
       "    <tr>\n",
       "      <th>577</th>\n",
       "      <td>the end device has a different grandmaster tha...</td>\n",
       "      <td>the drive detected a different ptp grandmaster...</td>\n",
       "      <td>ensure that the drive and the controller can s...</td>\n",
       "      <td>allen bradely</td>\n",
       "      <td>studio  logix designer</td>\n",
       "    </tr>\n",
       "  </tbody>\n",
       "</table>\n",
       "</div>"
      ],
      "text/plain": [
       "                                                 Fault  \\\n",
       "526             connection request error module in use   \n",
       "117                    parameter can not be controlled   \n",
       "760                                      device number   \n",
       "522  requested service specifies an operation that ...   \n",
       "577  the end device has a different grandmaster tha...   \n",
       "\n",
       "                                            Diagnostic  \\\n",
       "526   the connection being accessed is already in use    \n",
       "117  the data block db that is to be controlled is ...   \n",
       "760  device was selected for synchronization but do...   \n",
       "522  the service specified an operation that is goi...   \n",
       "577  the drive detected a different ptp grandmaster...   \n",
       "\n",
       "                                     Corrective Action            PLC  \\\n",
       "526  check for these conditions\\n the controller is...  allen bradely   \n",
       "117                  load the db into the relevant cpu        siemens   \n",
       "760  select a device that supports synchronization ...        phoenix   \n",
       "522  the size of the data being read or written mus...  allen bradely   \n",
       "577  ensure that the drive and the controller can s...  allen bradely   \n",
       "\n",
       "                      Model  \n",
       "526  studio  logix designer  \n",
       "117                   step   \n",
       "760                    axc   \n",
       "522  studio  logix designer  \n",
       "577  studio  logix designer  "
      ]
     },
     "execution_count": 79,
     "metadata": {},
     "output_type": "execute_result"
    }
   ],
   "source": [
    "import re\n",
    "\n",
    "def preprocess_text(text):\n",
    "    # Remove unwanted characters\n",
    "    text = re.sub('[^a-zA-Z\\s]', '', text)\n",
    "    # Convert to lowercase\n",
    "    text = text.lower()\n",
    "    return text\n",
    "\n",
    "df['Corrective Action'] = df['Corrective Action'].astype(str)\n",
    "df['PLC'] = df['PLC'].astype(str)\n",
    "df['Model'] = df['Model'].astype(str)\n",
    "df['Fault'] = df['Fault'].astype(str)\n",
    "df['Diagnostic'] = df['Diagnostic'].astype(str)\n",
    "\n",
    "\n",
    "df['Corrective Action'] = df['Corrective Action'].apply(preprocess_text)\n",
    "df['PLC'] = df['PLC'].apply(preprocess_text)\n",
    "df['Model'] = df['Model'].apply(preprocess_text)\n",
    "df['Fault'] = df['Fault'].apply(preprocess_text)\n",
    "df['Diagnostic'] = df['Diagnostic'].apply(preprocess_text)\n",
    "df.sample(5)"
   ]
  },
  {
   "cell_type": "code",
   "execution_count": 80,
   "id": "7b99b382",
   "metadata": {},
   "outputs": [
    {
     "name": "stdout",
     "output_type": "stream",
     "text": [
      "<class 'pandas.core.frame.DataFrame'>\n",
      "RangeIndex: 1398 entries, 0 to 1397\n",
      "Data columns (total 5 columns):\n",
      " #   Column             Non-Null Count  Dtype \n",
      "---  ------             --------------  ----- \n",
      " 0   Fault              1398 non-null   object\n",
      " 1   Diagnostic         1398 non-null   object\n",
      " 2   Corrective Action  1398 non-null   object\n",
      " 3   PLC                1398 non-null   object\n",
      " 4   Model              1398 non-null   object\n",
      "dtypes: object(5)\n",
      "memory usage: 54.7+ KB\n"
     ]
    }
   ],
   "source": [
    "\n",
    "df.info()"
   ]
  },
  {
   "cell_type": "code",
   "execution_count": 81,
   "id": "1c2b6026",
   "metadata": {},
   "outputs": [
    {
     "name": "stderr",
     "output_type": "stream",
     "text": [
      "[nltk_data] Downloading package punkt to\n",
      "[nltk_data]     C:\\Users\\kibe\\AppData\\Roaming\\nltk_data...\n",
      "[nltk_data]   Package punkt is already up-to-date!\n",
      "[nltk_data] Downloading package wordnet to\n",
      "[nltk_data]     C:\\Users\\kibe\\AppData\\Roaming\\nltk_data...\n",
      "[nltk_data]   Package wordnet is already up-to-date!\n",
      "[nltk_data] Downloading package stopwords to\n",
      "[nltk_data]     C:\\Users\\kibe\\AppData\\Roaming\\nltk_data...\n",
      "[nltk_data]   Package stopwords is already up-to-date!\n"
     ]
    },
    {
     "data": {
      "text/html": [
       "<div>\n",
       "<style scoped>\n",
       "    .dataframe tbody tr th:only-of-type {\n",
       "        vertical-align: middle;\n",
       "    }\n",
       "\n",
       "    .dataframe tbody tr th {\n",
       "        vertical-align: top;\n",
       "    }\n",
       "\n",
       "    .dataframe thead th {\n",
       "        text-align: right;\n",
       "    }\n",
       "</style>\n",
       "<table border=\"1\" class=\"dataframe\">\n",
       "  <thead>\n",
       "    <tr style=\"text-align: right;\">\n",
       "      <th></th>\n",
       "      <th>Fault</th>\n",
       "      <th>Diagnostic</th>\n",
       "      <th>Corrective Action</th>\n",
       "      <th>PLC</th>\n",
       "      <th>Model</th>\n",
       "    </tr>\n",
       "  </thead>\n",
       "  <tbody>\n",
       "    <tr>\n",
       "      <th>74</th>\n",
       "      <td>electrode cannot be standardized</td>\n",
       "      <td>defective preamplifier</td>\n",
       "      <td>check preamplifier and replace if defective</td>\n",
       "      <td>emerson</td>\n",
       "      <td>model hp</td>\n",
       "    </tr>\n",
       "    <tr>\n",
       "      <th>3</th>\n",
       "      <td>high reference imped</td>\n",
       "      <td>coated reference electrode</td>\n",
       "      <td>clean electrode as instructed in sensor manual</td>\n",
       "      <td>emerson</td>\n",
       "      <td>model e</td>\n",
       "    </tr>\n",
       "    <tr>\n",
       "      <th>1159</th>\n",
       "      <td>time selfdiagnostic testing error</td>\n",
       "      <td>a clock error is detected by selfdiagnosis whi...</td>\n",
       "      <td>replace the cpu module</td>\n",
       "      <td>yokogawa</td>\n",
       "      <td>centum</td>\n",
       "    </tr>\n",
       "    <tr>\n",
       "      <th>1245</th>\n",
       "      <td>failed to create device database</td>\n",
       "      <td>disk capacity or system resources are insuffic...</td>\n",
       "      <td>increase the disk capacity or system resources</td>\n",
       "      <td>yokogawa</td>\n",
       "      <td>stardom</td>\n",
       "    </tr>\n",
       "    <tr>\n",
       "      <th>1056</th>\n",
       "      <td>program area error</td>\n",
       "      <td>an instruction which must be written in a spec...</td>\n",
       "      <td>change to prog mode and enter the instruction ...</td>\n",
       "      <td>panasonic</td>\n",
       "      <td>fpr</td>\n",
       "    </tr>\n",
       "  </tbody>\n",
       "</table>\n",
       "</div>"
      ],
      "text/plain": [
       "                                  Fault  \\\n",
       "74     electrode cannot be standardized   \n",
       "3                  high reference imped   \n",
       "1159  time selfdiagnostic testing error   \n",
       "1245   failed to create device database   \n",
       "1056                 program area error   \n",
       "\n",
       "                                             Diagnostic  \\\n",
       "74                               defective preamplifier   \n",
       "3                            coated reference electrode   \n",
       "1159  a clock error is detected by selfdiagnosis whi...   \n",
       "1245  disk capacity or system resources are insuffic...   \n",
       "1056  an instruction which must be written in a spec...   \n",
       "\n",
       "                                      Corrective Action        PLC     Model  \n",
       "74          check preamplifier and replace if defective    emerson  model hp  \n",
       "3        clean electrode as instructed in sensor manual    emerson   model e  \n",
       "1159                             replace the cpu module   yokogawa    centum  \n",
       "1245     increase the disk capacity or system resources   yokogawa   stardom  \n",
       "1056  change to prog mode and enter the instruction ...  panasonic       fpr  "
      ]
     },
     "execution_count": 81,
     "metadata": {},
     "output_type": "execute_result"
    }
   ],
   "source": [
    "#lemmatization and removing stopwords\n",
    "\n",
    "import nltk\n",
    "from nltk.tokenize import word_tokenize\n",
    "from nltk.stem import WordNetLemmatizer\n",
    "from nltk.corpus import stopwords\n",
    "\n",
    "nltk.download('punkt')\n",
    "nltk.download('wordnet')\n",
    "nltk.download('stopwords')\n",
    "\n",
    "lemmatizer = WordNetLemmatizer()\n",
    "stop_words = set(stopwords.words(\"english\"))\n",
    "\n",
    "def preprocess(text):\n",
    "    text = text.lower()\n",
    "    words = word_tokenize(text)\n",
    "    words = [lemmatizer.lemmatize(word) for word in words if word not in stop_words]\n",
    "    return words\n",
    "\n",
    "df['Corrective Action'] = df['Corrective Action'].astype(str)\n",
    "df['PLC'] = df['PLC'].astype(str)\n",
    "df['Model'] = df['Model'].astype(str)\n",
    "df['Fault'] = df['Fault'].astype(str)\n",
    "df['Diagnostic'] = df['Diagnostic'].astype(str)\n",
    "\n",
    "\n",
    "df['Corrective Action'] = df['Corrective Action'].apply(preprocess_text)\n",
    "df['PLC'] = df['PLC'].apply(preprocess_text)\n",
    "df['Model'] = df['Model'].apply(preprocess_text)\n",
    "df['Fault'] = df['Fault'].apply(preprocess_text)\n",
    "df['Diagnostic'] = df['Diagnostic'].apply(preprocess_text)\n",
    "df.sample(5)"
   ]
  },
  {
   "cell_type": "code",
   "execution_count": 83,
   "id": "1bb0f30d",
   "metadata": {},
   "outputs": [],
   "source": [
    "df.to_csv('PLCdata.csv')"
   ]
  },
  {
   "cell_type": "code",
   "execution_count": 96,
   "id": "6e574c76",
   "metadata": {},
   "outputs": [
    {
     "name": "stdout",
     "output_type": "stream",
     "text": [
      "                   Fault                         Diagnostic  \\\n",
      "0  cracked glass failure  broken or cracked glass electrode   \n",
      "1  cracked glass failure  broken or cracked glass electrode   \n",
      "2      zero offset error       reference electrode poisoned   \n",
      "3   high reference imped         coated reference electrode   \n",
      "4   high reference imped              sensor out of process   \n",
      "\n",
      "                                Corrective Action      PLC    Model  \n",
      "0                    replace electrode if cracked  emerson  model e  \n",
      "1                          check wiring for short  emerson  model e  \n",
      "2                    replace reference electorode  emerson  model e  \n",
      "3  clean electrode as instructed in sensor manual  emerson  model e  \n",
      "4  clean electrode as instructed in sensor manual  emerson  model e  \n",
      "                   Fault                         Diagnostic  \\\n",
      "0  cracked glass failure  broken or cracked glass electrode   \n",
      "1  cracked glass failure  broken or cracked glass electrode   \n",
      "2      zero offset error       reference electrode poisoned   \n",
      "3   high reference imped         coated reference electrode   \n",
      "4   high reference imped              sensor out of process   \n",
      "\n",
      "                                Corrective Action      PLC    Model  \n",
      "0                    replace electrode if cracked  emerson  model e  \n",
      "1                          check wiring for short  emerson  model e  \n",
      "2                    replace reference electorode  emerson  model e  \n",
      "3  clean electrode as instructed in sensor manual  emerson  model e  \n",
      "4  clean electrode as instructed in sensor manual  emerson  model e  \n"
     ]
    }
   ],
   "source": [
    "\n",
    "def remove_index(df):\n",
    "    df = df.reset_index(drop=True)\n",
    "    return df\n",
    "\n",
    "#Example usage\n",
    "data = df\n",
    "df = pd.DataFrame(data)\n",
    "print(df.head())\n",
    "df = remove_index(df)\n",
    "print(df.head())"
   ]
  },
  {
   "cell_type": "code",
   "execution_count": 95,
   "id": "b33ea8aa",
   "metadata": {},
   "outputs": [
    {
     "data": {
      "text/html": [
       "<div>\n",
       "<style scoped>\n",
       "    .dataframe tbody tr th:only-of-type {\n",
       "        vertical-align: middle;\n",
       "    }\n",
       "\n",
       "    .dataframe tbody tr th {\n",
       "        vertical-align: top;\n",
       "    }\n",
       "\n",
       "    .dataframe thead th {\n",
       "        text-align: right;\n",
       "    }\n",
       "</style>\n",
       "<table border=\"1\" class=\"dataframe\">\n",
       "  <thead>\n",
       "    <tr style=\"text-align: right;\">\n",
       "      <th></th>\n",
       "      <th>Fault</th>\n",
       "      <th>Diagnostic</th>\n",
       "      <th>Corrective Action</th>\n",
       "      <th>PLC</th>\n",
       "      <th>Model</th>\n",
       "    </tr>\n",
       "  </thead>\n",
       "  <tbody>\n",
       "    <tr>\n",
       "      <th>0</th>\n",
       "      <td>cracked glass failure</td>\n",
       "      <td>broken or cracked glass electrode</td>\n",
       "      <td>replace electrode if cracked</td>\n",
       "      <td>emerson</td>\n",
       "      <td>model e</td>\n",
       "    </tr>\n",
       "    <tr>\n",
       "      <th>1</th>\n",
       "      <td>cracked glass failure</td>\n",
       "      <td>broken or cracked glass electrode</td>\n",
       "      <td>check wiring for short</td>\n",
       "      <td>emerson</td>\n",
       "      <td>model e</td>\n",
       "    </tr>\n",
       "    <tr>\n",
       "      <th>2</th>\n",
       "      <td>zero offset error</td>\n",
       "      <td>reference electrode poisoned</td>\n",
       "      <td>replace reference electorode</td>\n",
       "      <td>emerson</td>\n",
       "      <td>model e</td>\n",
       "    </tr>\n",
       "    <tr>\n",
       "      <th>3</th>\n",
       "      <td>high reference imped</td>\n",
       "      <td>coated reference electrode</td>\n",
       "      <td>clean electrode as instructed in sensor manual</td>\n",
       "      <td>emerson</td>\n",
       "      <td>model e</td>\n",
       "    </tr>\n",
       "    <tr>\n",
       "      <th>4</th>\n",
       "      <td>high reference imped</td>\n",
       "      <td>sensor out of process</td>\n",
       "      <td>clean electrode as instructed in sensor manual</td>\n",
       "      <td>emerson</td>\n",
       "      <td>model e</td>\n",
       "    </tr>\n",
       "  </tbody>\n",
       "</table>\n",
       "</div>"
      ],
      "text/plain": [
       "                   Fault                         Diagnostic  \\\n",
       "0  cracked glass failure  broken or cracked glass electrode   \n",
       "1  cracked glass failure  broken or cracked glass electrode   \n",
       "2      zero offset error       reference electrode poisoned   \n",
       "3   high reference imped         coated reference electrode   \n",
       "4   high reference imped              sensor out of process   \n",
       "\n",
       "                                Corrective Action      PLC    Model  \n",
       "0                    replace electrode if cracked  emerson  model e  \n",
       "1                          check wiring for short  emerson  model e  \n",
       "2                    replace reference electorode  emerson  model e  \n",
       "3  clean electrode as instructed in sensor manual  emerson  model e  \n",
       "4  clean electrode as instructed in sensor manual  emerson  model e  "
      ]
     },
     "execution_count": 95,
     "metadata": {},
     "output_type": "execute_result"
    }
   ],
   "source": [
    "df.head()"
   ]
  },
  {
   "cell_type": "code",
   "execution_count": 18,
   "id": "bf312d41",
   "metadata": {},
   "outputs": [
    {
     "data": {
      "text/html": [
       "<div>\n",
       "<style scoped>\n",
       "    .dataframe tbody tr th:only-of-type {\n",
       "        vertical-align: middle;\n",
       "    }\n",
       "\n",
       "    .dataframe tbody tr th {\n",
       "        vertical-align: top;\n",
       "    }\n",
       "\n",
       "    .dataframe thead th {\n",
       "        text-align: right;\n",
       "    }\n",
       "</style>\n",
       "<table border=\"1\" class=\"dataframe\">\n",
       "  <thead>\n",
       "    <tr style=\"text-align: right;\">\n",
       "      <th></th>\n",
       "      <th>Fault</th>\n",
       "      <th>Diagnostic</th>\n",
       "      <th>Corrective Action</th>\n",
       "      <th>PLC</th>\n",
       "      <th>Model</th>\n",
       "    </tr>\n",
       "  </thead>\n",
       "  <tbody>\n",
       "    <tr>\n",
       "      <th>1263</th>\n",
       "      <td>cannot open a file</td>\n",
       "      <td>number of connections to message management se...</td>\n",
       "      <td>remove alarmfsx control or more for remote con...</td>\n",
       "      <td>yokogawa</td>\n",
       "      <td>stardom</td>\n",
       "    </tr>\n",
       "    <tr>\n",
       "      <th>368</th>\n",
       "      <td>minor fault tc  program fault buffersize value...</td>\n",
       "      <td>buffersize value reduced amount of data</td>\n",
       "      <td>legacy now an unused fault code</td>\n",
       "      <td>allen bradely</td>\n",
       "      <td>studio  logix designer</td>\n",
       "    </tr>\n",
       "    <tr>\n",
       "      <th>966</th>\n",
       "      <td>parameter error</td>\n",
       "      <td>the parameterset number of cpu modules differs...</td>\n",
       "      <td>match the number of cpu modules in multiple cp...</td>\n",
       "      <td>mitsubishi</td>\n",
       "      <td>logic controller</td>\n",
       "    </tr>\n",
       "  </tbody>\n",
       "</table>\n",
       "</div>"
      ],
      "text/plain": [
       "                                                  Fault  \\\n",
       "1263                                 cannot open a file   \n",
       "368   minor fault tc  program fault buffersize value...   \n",
       "966                                     parameter error   \n",
       "\n",
       "                                             Diagnostic  \\\n",
       "1263  number of connections to message management se...   \n",
       "368             buffersize value reduced amount of data   \n",
       "966   the parameterset number of cpu modules differs...   \n",
       "\n",
       "                                      Corrective Action            PLC  \\\n",
       "1263  remove alarmfsx control or more for remote con...       yokogawa   \n",
       "368                     legacy now an unused fault code  allen bradely   \n",
       "966   match the number of cpu modules in multiple cp...     mitsubishi   \n",
       "\n",
       "                       Model  \n",
       "1263                 stardom  \n",
       "368   studio  logix designer  \n",
       "966         logic controller  "
      ]
     },
     "execution_count": 18,
     "metadata": {},
     "output_type": "execute_result"
    }
   ],
   "source": [
    "df=pd.read_csv(r\"C:\\Users\\kibe\\Desktop\\Projects\\PLC project\\PLC-Fault-Predictiction-Algo\\PLCdata.csv\",index_col=[0])\n",
    "df.sample(3)"
   ]
  },
  {
   "cell_type": "code",
   "execution_count": 19,
   "id": "1167b5b9",
   "metadata": {},
   "outputs": [
    {
     "data": {
      "text/plain": [
       "0                            replace electrode if cracked\n",
       "1                                  check wiring for short\n",
       "2                            replace reference electorode\n",
       "3          clean electrode as instructed in sensor manual\n",
       "4          clean electrode as instructed in sensor manual\n",
       "                              ...                        \n",
       "1393                            increase the memory space\n",
       "1394    use the proper physical cable connections from...\n",
       "1395    make sure you use cables with appropriate cond...\n",
       "1396    make sure the cable length does not exceed spe...\n",
       "1397    position logo cm as interface on the far right...\n",
       "Name: Corrective Action, Length: 1398, dtype: object"
      ]
     },
     "execution_count": 19,
     "metadata": {},
     "output_type": "execute_result"
    }
   ],
   "source": [
    "df['Corrective Action']"
   ]
  },
  {
   "cell_type": "code",
   "execution_count": 20,
   "id": "b0537cee",
   "metadata": {},
   "outputs": [],
   "source": [
    "# converting to string\n",
    "df['Diagnostic'] = df['Diagnostic'].str.split(',') \n",
    "df['Corrective Action'] = df['Corrective Action'].str.split(',') \n",
    "df['PLC'] = df['PLC'].str.split(',') \n",
    "df['Model'] = df['Model'].str.split(',') \n",
    "if all(map(lambda x: type(x)==str and \",\" in x, df[\"Diagnostic\"])):\n",
    "    df['Diagnostic'] = df['Diagnostic'].str.split(',')"
   ]
  },
  {
   "cell_type": "code",
   "execution_count": 23,
   "id": "95404a6c",
   "metadata": {},
   "outputs": [
    {
     "data": {
      "text/plain": [
       "0                   ['broken or cracked glass electrode']\n",
       "1                   ['broken or cracked glass electrode']\n",
       "2                        ['reference electrode poisoned']\n",
       "3                          ['coated reference electrode']\n",
       "4                               ['sensor out of process']\n",
       "                              ...                        \n",
       "1393    ['insufficient memory space cannot add a block...\n",
       "1394    ['physical cable connections from the end devi...\n",
       "1395    ['there is no appropriate conductor crosssecti...\n",
       "1396          ['cable length exceeds the specifications']\n",
       "1397    ['communication between the logo system and th...\n",
       "Name: Diagnostic, Length: 1398, dtype: object"
      ]
     },
     "execution_count": 23,
     "metadata": {},
     "output_type": "execute_result"
    }
   ],
   "source": [
    "df = df.astype(str)\n",
    "df['Diagnostic']"
   ]
  },
  {
   "cell_type": "code",
   "execution_count": 24,
   "id": "5be67e35",
   "metadata": {},
   "outputs": [
    {
     "name": "stderr",
     "output_type": "stream",
     "text": [
      "[nltk_data] Downloading package punkt to\n",
      "[nltk_data]     C:\\Users\\kibe\\AppData\\Roaming\\nltk_data...\n",
      "[nltk_data]   Package punkt is already up-to-date!\n"
     ]
    },
    {
     "name": "stdout",
     "output_type": "stream",
     "text": [
      "1398\n",
      "1398\n",
      "1398\n",
      "1398\n",
      "1398\n"
     ]
    }
   ],
   "source": [
    "import nltk\n",
    "nltk.download('punkt')\n",
    "from nltk.tokenize import word_tokenize\n",
    "df = df.applymap(str)\n",
    "# Tokenize the text data\n",
    "def tokenize_text(text):\n",
    "    # Tokenize the text into words\n",
    "    tokens = word_tokenize(text)\n",
    "    return tokens\n",
    "\n",
    "text_data =df['Corrective Action']\n",
    "tokens1 = [tokenize_text(text) for text in text_data]\n",
    "print(len(tokens1))\n",
    "\n",
    "text_data =df['Fault']\n",
    "tokens2 = [tokenize_text(text) for text in text_data]\n",
    "print(len(tokens2))\n",
    "text_data =df['PLC']\n",
    "tokens3 = [tokenize_text(text) for text in text_data]\n",
    "print(len(tokens3))\n",
    "text_data =df['Model']\n",
    "tokens4 = [tokenize_text(text) for text in text_data]\n",
    "print(len(tokens4))\n",
    "text_data =df['Diagnostic']\n",
    "tokens5 = [tokenize_text(text) for text in text_data]\n",
    "print(len(tokens5))\n",
    "\n",
    "\n"
   ]
  },
  {
   "cell_type": "code",
   "execution_count": 25,
   "id": "fa0d3d83",
   "metadata": {},
   "outputs": [],
   "source": [
    "Diagnostic=tokens5\n",
    "Model=tokens4\n",
    "PLC=tokens3\n",
    "Fault=tokens2\n",
    "CorrectiveAction=tokens1"
   ]
  },
  {
   "cell_type": "code",
   "execution_count": 26,
   "id": "0c651566",
   "metadata": {},
   "outputs": [
    {
     "name": "stderr",
     "output_type": "stream",
     "text": [
      "V:\\Anaconda\\lib\\site-packages\\numpy\\lib\\npyio.py:528: VisibleDeprecationWarning: Creating an ndarray from ragged nested sequences (which is a list-or-tuple of lists-or-tuples-or ndarrays with different lengths or shapes) is deprecated. If you meant to do this, you must specify 'dtype=object' when creating the ndarray.\n",
      "  arr = np.asanyarray(arr)\n"
     ]
    }
   ],
   "source": [
    "np.save(\"Diagnostic.npy\", Diagnostic)\n",
    "np.save(\"Model.npy\", Model)\n",
    "np.save(\"PLC.npy\", PLC)\n",
    "np.save(\"Fault.npy\", Fault)\n",
    "np.save(\"CorrectiveAction.npy\", CorrectiveAction)"
   ]
  },
  {
   "cell_type": "code",
   "execution_count": 27,
   "id": "a9393353",
   "metadata": {},
   "outputs": [],
   "source": [
    "Diagnostic = np.load('Diagnostic.npy',allow_pickle=True)\n",
    "Model = np.load('Model.npy',allow_pickle=True)\n",
    "PLC = np.load('PLC.npy',allow_pickle=True)\n",
    "Fault = np.load('Fault.npy',allow_pickle=True)\n",
    "CorrectiveAction = np.load('CorrectiveAction.npy',allow_pickle=True)"
   ]
  },
  {
   "cell_type": "markdown",
   "id": "444bac4b",
   "metadata": {},
   "source": [
    "\n",
    "\n",
    "# Vectorization"
   ]
  },
  {
   "cell_type": "code",
   "execution_count": 35,
   "id": "7669705e",
   "metadata": {},
   "outputs": [],
   "source": [
    "from gensim.models import Word2Vec\n",
    "df_list = CorrectiveAction+Fault+PLC+Model+Diagnostic\n",
    "\n",
    "lists_vectors = {'CorrectiveAction': CorrectiveAction, 'Fault': Fault, 'PLC': PLC, 'Model': Model, 'Diagnostic': Diagnostic}\n",
    "for name,list_ in lists_vectors.items():\n",
    "    model = Word2Vec(list_)\n",
    "    vectors = model.wv[model.wv.key_to_index]\n",
    "    # store the vectors in a separate variable\n",
    "    lists_vectors[name] = vectors"
   ]
  },
  {
   "cell_type": "code",
   "execution_count": 36,
   "id": "a5f7fd11",
   "metadata": {},
   "outputs": [
    {
     "name": "stdout",
     "output_type": "stream",
     "text": [
      "Shape of list 1: (1398,)\n",
      "Shape of list 2: (1398,)\n",
      "Shape of list 3: (1398,)\n",
      "Shape of list 4: (1398,)\n",
      "Shape of list 5: (1398,)\n"
     ]
    }
   ],
   "source": [
    "df_list = [CorrectiveAction,Fault,PLC,Model,Diagnostic]\n",
    "\n",
    "# iterate over the lists and output the shape of each list\n",
    "for i, lst in enumerate(df_list):\n",
    "    shape = np.array(lst).shape\n",
    "    print(f\"Shape of list {i+1}: {shape}\")"
   ]
  },
  {
   "cell_type": "code",
   "execution_count": 42,
   "id": "a7e1d37a",
   "metadata": {},
   "outputs": [
    {
     "data": {
      "text/plain": [
       "array([list(['[', \"'model\", 'e', \"'\", ']']),\n",
       "       list(['[', \"'model\", 'e', \"'\", ']']),\n",
       "       list(['[', \"'model\", 'e', \"'\", ']']), ...,\n",
       "       list(['[', \"'logo\", \"'\", ']']), list(['[', \"'logo\", \"'\", ']']),\n",
       "       list(['[', \"'logo\", \"'\", ']'])], dtype=object)"
      ]
     },
     "execution_count": 42,
     "metadata": {},
     "output_type": "execute_result"
    }
   ],
   "source": []
  },
  {
   "cell_type": "code",
   "execution_count": 38,
   "id": "0682513d",
   "metadata": {},
   "outputs": [
    {
     "ename": "ValueError",
     "evalue": "Failed to convert a NumPy array to a Tensor (Unsupported object type list).",
     "output_type": "error",
     "traceback": [
      "\u001b[1;31m---------------------------------------------------------------------------\u001b[0m",
      "\u001b[1;31mValueError\u001b[0m                                Traceback (most recent call last)",
      "Input \u001b[1;32mIn [38]\u001b[0m, in \u001b[0;36m<cell line: 25>\u001b[1;34m()\u001b[0m\n\u001b[0;32m     22\u001b[0m model\u001b[38;5;241m.\u001b[39mcompile(loss\u001b[38;5;241m=\u001b[39m\u001b[38;5;124m'\u001b[39m\u001b[38;5;124mcategorical_crossentropy\u001b[39m\u001b[38;5;124m'\u001b[39m, optimizer\u001b[38;5;241m=\u001b[39m\u001b[38;5;124m'\u001b[39m\u001b[38;5;124madam\u001b[39m\u001b[38;5;124m'\u001b[39m, metrics\u001b[38;5;241m=\u001b[39m[\u001b[38;5;124m'\u001b[39m\u001b[38;5;124maccuracy\u001b[39m\u001b[38;5;124m'\u001b[39m])\n\u001b[0;32m     24\u001b[0m \u001b[38;5;66;03m# Train the model\u001b[39;00m\n\u001b[1;32m---> 25\u001b[0m \u001b[43mmodel\u001b[49m\u001b[38;5;241;43m.\u001b[39;49m\u001b[43mfit\u001b[49m\u001b[43m(\u001b[49m\u001b[43mX_train\u001b[49m\u001b[43m,\u001b[49m\u001b[43m \u001b[49m\u001b[43my_train\u001b[49m\u001b[43m,\u001b[49m\u001b[43m \u001b[49m\u001b[43mepochs\u001b[49m\u001b[38;5;241;43m=\u001b[39;49m\u001b[38;5;241;43m10\u001b[39;49m\u001b[43m,\u001b[49m\u001b[43m \u001b[49m\u001b[43mbatch_size\u001b[49m\u001b[38;5;241;43m=\u001b[39;49m\u001b[38;5;241;43m32\u001b[39;49m\u001b[43m)\u001b[49m\n\u001b[0;32m     27\u001b[0m \u001b[38;5;66;03m# Evaluate the model on the test data\u001b[39;00m\n\u001b[0;32m     28\u001b[0m test_loss, test_acc \u001b[38;5;241m=\u001b[39m model\u001b[38;5;241m.\u001b[39mevaluate(X_test, y_test)\n",
      "File \u001b[1;32mV:\\Anaconda\\lib\\site-packages\\keras\\utils\\traceback_utils.py:67\u001b[0m, in \u001b[0;36mfilter_traceback.<locals>.error_handler\u001b[1;34m(*args, **kwargs)\u001b[0m\n\u001b[0;32m     65\u001b[0m \u001b[38;5;28;01mexcept\u001b[39;00m \u001b[38;5;167;01mException\u001b[39;00m \u001b[38;5;28;01mas\u001b[39;00m e:  \u001b[38;5;66;03m# pylint: disable=broad-except\u001b[39;00m\n\u001b[0;32m     66\u001b[0m   filtered_tb \u001b[38;5;241m=\u001b[39m _process_traceback_frames(e\u001b[38;5;241m.\u001b[39m__traceback__)\n\u001b[1;32m---> 67\u001b[0m   \u001b[38;5;28;01mraise\u001b[39;00m e\u001b[38;5;241m.\u001b[39mwith_traceback(filtered_tb) \u001b[38;5;28;01mfrom\u001b[39;00m \u001b[38;5;28mNone\u001b[39m\n\u001b[0;32m     68\u001b[0m \u001b[38;5;28;01mfinally\u001b[39;00m:\n\u001b[0;32m     69\u001b[0m   \u001b[38;5;28;01mdel\u001b[39;00m filtered_tb\n",
      "File \u001b[1;32mV:\\Anaconda\\lib\\site-packages\\tensorflow\\python\\framework\\constant_op.py:102\u001b[0m, in \u001b[0;36mconvert_to_eager_tensor\u001b[1;34m(value, ctx, dtype)\u001b[0m\n\u001b[0;32m    100\u001b[0m     dtype \u001b[38;5;241m=\u001b[39m dtypes\u001b[38;5;241m.\u001b[39mas_dtype(dtype)\u001b[38;5;241m.\u001b[39mas_datatype_enum\n\u001b[0;32m    101\u001b[0m ctx\u001b[38;5;241m.\u001b[39mensure_initialized()\n\u001b[1;32m--> 102\u001b[0m \u001b[38;5;28;01mreturn\u001b[39;00m \u001b[43mops\u001b[49m\u001b[38;5;241;43m.\u001b[39;49m\u001b[43mEagerTensor\u001b[49m\u001b[43m(\u001b[49m\u001b[43mvalue\u001b[49m\u001b[43m,\u001b[49m\u001b[43m \u001b[49m\u001b[43mctx\u001b[49m\u001b[38;5;241;43m.\u001b[39;49m\u001b[43mdevice_name\u001b[49m\u001b[43m,\u001b[49m\u001b[43m \u001b[49m\u001b[43mdtype\u001b[49m\u001b[43m)\u001b[49m\n",
      "\u001b[1;31mValueError\u001b[0m: Failed to convert a NumPy array to a Tensor (Unsupported object type list)."
     ]
    }
   ],
   "source": [
    "from keras.models import Sequential\n",
    "from keras.layers import Dense\n",
    "from sklearn.model_selection import train_test_split\n",
    "\n",
    "# Prepare your data\n",
    "X =  Model, Fault # input features\n",
    "y = Diagnostic, CorrectiveAction # output labels\n",
    "\n",
    "X = np.array(X)\n",
    "y = np.array(y)\n",
    "\n",
    "# Split the data into training and test sets\n",
    "X_train, X_test, y_train, y_test = train_test_split(X, y, test_size=0.2)\n",
    "\n",
    "# Build the model\n",
    "model = Sequential()\n",
    "model.add(Dense(10, input_dim=3, activation='relu')) # input layer\n",
    "model.add(Dense(10, activation='relu')) # hidden layer\n",
    "model.add(Dense(2, activation='softmax')) # output layer\n",
    "\n",
    "# Compile the model\n",
    "model.compile(loss='categorical_crossentropy', optimizer='adam', metrics=['accuracy'])\n",
    "\n",
    "# Train the model\n",
    "model.fit(X_train, y_train, epochs=10, batch_size=32)\n",
    "\n",
    "# Evaluate the model on the test data\n",
    "test_loss, test_acc = model.evaluate(X_test, y_test)\n",
    "print('Test accuracy:', test_acc)"
   ]
  },
  {
   "cell_type": "code",
   "execution_count": 5,
   "id": "11e32b93",
   "metadata": {},
   "outputs": [
    {
     "ename": "NameError",
     "evalue": "name 'X' is not defined",
     "output_type": "error",
     "traceback": [
      "\u001b[1;31m---------------------------------------------------------------------------\u001b[0m",
      "\u001b[1;31mNameError\u001b[0m                                 Traceback (most recent call last)",
      "Input \u001b[1;32mIn [5]\u001b[0m, in \u001b[0;36m<cell line: 8>\u001b[1;34m()\u001b[0m\n\u001b[0;32m      5\u001b[0m \u001b[38;5;28;01mimport\u001b[39;00m \u001b[38;5;21;01mnumpy\u001b[39;00m \u001b[38;5;28;01mas\u001b[39;00m \u001b[38;5;21;01mnp\u001b[39;00m\n\u001b[0;32m      7\u001b[0m \u001b[38;5;66;03m# reshape the input dataset X\u001b[39;00m\n\u001b[1;32m----> 8\u001b[0m X \u001b[38;5;241m=\u001b[39m np\u001b[38;5;241m.\u001b[39marray(\u001b[43mX\u001b[49m)\n\u001b[0;32m      9\u001b[0m X \u001b[38;5;241m=\u001b[39m X\u001b[38;5;241m.\u001b[39mreshape(\u001b[38;5;241m-\u001b[39m\u001b[38;5;241m1\u001b[39m, \u001b[38;5;241m3\u001b[39m)\n\u001b[0;32m     11\u001b[0m \u001b[38;5;66;03m# Split the data into input features and target variables\u001b[39;00m\n",
      "\u001b[1;31mNameError\u001b[0m: name 'X' is not defined"
     ]
    }
   ],
   "source": [
    "from sklearn.model_selection import train_test_split\n",
    "from keras.models import Model, Sequential\n",
    "from keras.layers import Dense, Input\n",
    "from keras.utils import to_categorical\n",
    "import numpy as np\n",
    "\n",
    "# reshape the input dataset X\n",
    "X = np.array(X)\n",
    "X = X.reshape(-1, 3)\n",
    "\n",
    "# Split the data into input features and target variables\n",
    "y_diagnostic = Diagnostic\n",
    "y_corrective_action = CorrectiveAction\n",
    "y_PLC = PLC\n",
    "y_model = Model\n",
    "y_fault = Fault\n",
    "\n",
    "# Split the data into training and testing sets\n",
    "X_train, X_test, y_diagnostic_train, y_diagnostic_test, y_corrective_action_train, y_corrective_action_test, y_PLC_train, y_PLC_test, y_model_train, y_model_test, y_fault_train, y_fault_test = train_test_split(X, y_diagnostic, y_corrective_action, y_PLC, y_model, y_fault, test_size=0.2)\n",
    "\n",
    "# create the model\n",
    "inputs = Input(shape=(3,))\n",
    "x = Dense(64, activation='relu')(inputs)\n",
    "x = Dense(64, activation='relu')(x)\n",
    "diagnostic_prediction = Dense(len(diagnostics_vocab), activation='softmax', name='diagnostic_output')(x)\n",
    "corrective_action_prediction = Dense(len(corrective_action_vocab), activation='softmax', name='corrective_action_output')(x)\n",
    "model = Model(inputs=inputs, outputs=[diagnostic_prediction, corrective_action_prediction])\n",
    "\n",
    "# compile the model\n",
    "model.compile(optimizer='adam', loss=['categorical_crossentropy','categorical_crossentropy'], metrics=['accuracy'])\n",
    "\n",
    "\n",
    "\n",
    "# fit the model on the data\n",
    "model.fit(X_train, [y_diagnostic_train, y_corrective_action_train], epochs=50, batch_size=32)\n"
   ]
  },
  {
   "cell_type": "code",
   "execution_count": 41,
   "id": "981e125e",
   "metadata": {},
   "outputs": [
    {
     "name": "stdout",
     "output_type": "stream",
     "text": [
      "Accuracy: 7.50%\n"
     ]
    }
   ],
   "source": [
    "from sklearn.preprocessing import OneHotEncoder\n",
    "from sklearn.ensemble import RandomForestClassifier\n",
    "from sklearn.model_selection import train_test_split\n",
    "\n",
    "# Load the input data (Fault, PLC, Model)\n",
    "fault_list =Fault\n",
    "plc_list = PLC\n",
    "model_list =Model\n",
    "\n",
    "max_length = max(len(fault_list), len(plc_list), len(model_list))\n",
    "fault_list = np.repeat(fault_list, max_length/len(fault_list))\n",
    "plc_list = np.repeat(plc_list, max_length/len(plc_list))\n",
    "model_list = np.repeat(model_list, max_length/len(model_list))\n",
    "\n",
    "\n",
    "\n",
    "\n",
    "diagnostic_list = Diagnostic\n",
    "corrective_action_list = CorrectiveAction\n",
    "\n",
    "max_length = max(len(diagnostic_list), len(corrective_action_list))\n",
    "diagnostic_list = np.repeat(diagnostic_list, max_length/len(diagnostic_list))\n",
    "corrective_action_list = np.repeat(corrective_action_list, max_length/len(corrective_action_list))\n",
    "\n",
    "\n",
    "\n",
    "fault_list = [' '.join(fault) for fault in fault_list]\n",
    "plc_list = [' '.join(plc) for plc in plc_list]\n",
    "model_list = [' '.join(model) for model in model_list]\n",
    "diagnostic_list = [' '.join(diagnostic) for diagnostic in diagnostic_list]\n",
    "corrective_action_list = [' '.join(corrective_action) for corrective_action in corrective_action_list]\n",
    "\n",
    "X = np.column_stack((fault_list, plc_list, model_list))\n",
    "y = np.column_stack((diagnostic_list, corrective_action_list))\n",
    "\n",
    "\n",
    "enc = OneHotEncoder()\n",
    "X = enc.fit_transform(X)\n",
    "\n",
    "enc = OneHotEncoder()\n",
    "y = enc.fit_transform(y).toarray()\n",
    "\n",
    "X_train, X_test, y_train, y_test = train_test_split(X, y, test_size=0.2)\n",
    "\n",
    "clf = RandomForestClassifier(n_estimators=100, random_state=42)\n",
    "\n",
    "clf.fit(X_train, y_train)\n",
    "\n",
    "accuracy = clf.score(X_test, y_test)\n",
    "print(\"Accuracy: {:.2f}%\".format(accuracy*100))"
   ]
  },
  {
   "cell_type": "code",
   "execution_count": 43,
   "id": "dcc852f4",
   "metadata": {},
   "outputs": [
    {
     "name": "stdout",
     "output_type": "stream",
     "text": [
      "Best parameters:  {'max_depth': 20, 'min_samples_split': 2, 'n_estimators': 50}\n",
      "Best score:  0.026829756566303653\n"
     ]
    }
   ],
   "source": [
    "from sklearn.model_selection import GridSearchCV\n",
    "from sklearn.ensemble import RandomForestClassifier\n",
    "\n",
    "# Define the parameter grid\n",
    "param_grid = {'n_estimators': [50, 100, 200],\n",
    "              'max_depth': [5, 10, 20],\n",
    "              'min_samples_split': [2, 5, 10]}\n",
    "\n",
    "# Create a random forest classifier\n",
    "clf = RandomForestClassifier(random_state=42)\n",
    "\n",
    "# Create the grid search object\n",
    "grid_search = GridSearchCV(clf, param_grid, cv=5, scoring='accuracy')\n",
    "\n",
    "# Fit the grid search object to the data\n",
    "grid_search.fit(X_train, y_train)\n",
    "\n",
    "# Print the best parameters and the best score\n",
    "print(\"Best parameters: \", grid_search.best_params_)\n",
    "print(\"Best score: \", grid_search.best_score_)\n"
   ]
  },
  {
   "cell_type": "code",
   "execution_count": null,
   "id": "3681f86f",
   "metadata": {},
   "outputs": [],
   "source": [
    "from sklearn.metrics import classification_report\n",
    "print(classification_report(y_test, y_pred))\n",
    "from sklearn.metrics import roc_auc_score\n",
    "print(roc_auc_score(y_test, y_pred))"
   ]
  },
  {
   "cell_type": "code",
   "execution_count": null,
   "id": "41e49330",
   "metadata": {},
   "outputs": [],
   "source": []
  }
 ],
 "metadata": {
  "kernelspec": {
   "display_name": "Python 3 (ipykernel)",
   "language": "python",
   "name": "python3"
  },
  "language_info": {
   "codemirror_mode": {
    "name": "ipython",
    "version": 3
   },
   "file_extension": ".py",
   "mimetype": "text/x-python",
   "name": "python",
   "nbconvert_exporter": "python",
   "pygments_lexer": "ipython3",
   "version": "3.9.12"
  }
 },
 "nbformat": 4,
 "nbformat_minor": 5
}
