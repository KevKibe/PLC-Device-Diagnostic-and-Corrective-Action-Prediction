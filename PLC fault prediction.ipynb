{
 "cells": [
  {
   "cell_type": "code",
   "execution_count": 1,
   "id": "5532caa7",
   "metadata": {},
   "outputs": [],
   "source": [
    "import pandas as pd\n",
    "import numpy as np"
   ]
  },
  {
   "cell_type": "code",
   "execution_count": 76,
   "id": "d39ed9ac",
   "metadata": {},
   "outputs": [
    {
     "data": {
      "text/html": [
       "<div>\n",
       "<style scoped>\n",
       "    .dataframe tbody tr th:only-of-type {\n",
       "        vertical-align: middle;\n",
       "    }\n",
       "\n",
       "    .dataframe tbody tr th {\n",
       "        vertical-align: top;\n",
       "    }\n",
       "\n",
       "    .dataframe thead th {\n",
       "        text-align: right;\n",
       "    }\n",
       "</style>\n",
       "<table border=\"1\" class=\"dataframe\">\n",
       "  <thead>\n",
       "    <tr style=\"text-align: right;\">\n",
       "      <th></th>\n",
       "      <th>Fault Code</th>\n",
       "      <th>Fault</th>\n",
       "      <th>Diagnostic</th>\n",
       "      <th>Corrective Action</th>\n",
       "      <th>PLC</th>\n",
       "      <th>Model</th>\n",
       "    </tr>\n",
       "  </thead>\n",
       "  <tbody>\n",
       "    <tr>\n",
       "      <th>0</th>\n",
       "      <td>NaN</td>\n",
       "      <td>Cracked glass failure</td>\n",
       "      <td>Broken or cracked glass electrode</td>\n",
       "      <td>Replace electrode if cracked.</td>\n",
       "      <td>Emerson</td>\n",
       "      <td>Model 54e</td>\n",
       "    </tr>\n",
       "    <tr>\n",
       "      <th>1</th>\n",
       "      <td>NaN</td>\n",
       "      <td>Cracked glass failure</td>\n",
       "      <td>Broken or cracked glass electrode</td>\n",
       "      <td>Check wiring for short.</td>\n",
       "      <td>Emerson</td>\n",
       "      <td>Model 54e</td>\n",
       "    </tr>\n",
       "    <tr>\n",
       "      <th>2</th>\n",
       "      <td>NaN</td>\n",
       "      <td>Zero offset error</td>\n",
       "      <td>Reference electrode poisoned</td>\n",
       "      <td>Replace reference electorode</td>\n",
       "      <td>Emerson</td>\n",
       "      <td>Model 54e</td>\n",
       "    </tr>\n",
       "    <tr>\n",
       "      <th>3</th>\n",
       "      <td>NaN</td>\n",
       "      <td>High reference imped</td>\n",
       "      <td>Coated reference electrode</td>\n",
       "      <td>Clean electrode as instructed in sensor manual</td>\n",
       "      <td>Emerson</td>\n",
       "      <td>Model 54e</td>\n",
       "    </tr>\n",
       "    <tr>\n",
       "      <th>4</th>\n",
       "      <td>NaN</td>\n",
       "      <td>High reference imped</td>\n",
       "      <td>Sensor out of process.</td>\n",
       "      <td>Clean electrode as instructed in sensor manual</td>\n",
       "      <td>Emerson</td>\n",
       "      <td>Model 54e</td>\n",
       "    </tr>\n",
       "  </tbody>\n",
       "</table>\n",
       "</div>"
      ],
      "text/plain": [
       "  Fault Code                  Fault                         Diagnostic  \\\n",
       "0        NaN  Cracked glass failure  Broken or cracked glass electrode   \n",
       "1        NaN  Cracked glass failure  Broken or cracked glass electrode   \n",
       "2        NaN      Zero offset error       Reference electrode poisoned   \n",
       "3        NaN   High reference imped         Coated reference electrode   \n",
       "4        NaN   High reference imped             Sensor out of process.   \n",
       "\n",
       "                                Corrective Action      PLC      Model  \n",
       "0                   Replace electrode if cracked.  Emerson  Model 54e  \n",
       "1                         Check wiring for short.  Emerson  Model 54e  \n",
       "2                    Replace reference electorode  Emerson  Model 54e  \n",
       "3  Clean electrode as instructed in sensor manual  Emerson  Model 54e  \n",
       "4  Clean electrode as instructed in sensor manual  Emerson  Model 54e  "
      ]
     },
     "execution_count": 76,
     "metadata": {},
     "output_type": "execute_result"
    }
   ],
   "source": [
    "df= pd.read_excel(r\"C:\\Users\\kibe\\Desktop\\Projects\\PLC project\\PLC Dataset-6.xlsx\")\n",
    "df.head()"
   ]
  },
  {
   "cell_type": "code",
   "execution_count": 77,
   "id": "9f1eca87",
   "metadata": {},
   "outputs": [
    {
     "name": "stdout",
     "output_type": "stream",
     "text": [
      "<class 'pandas.core.frame.DataFrame'>\n",
      "RangeIndex: 1398 entries, 0 to 1397\n",
      "Data columns (total 6 columns):\n",
      " #   Column             Non-Null Count  Dtype \n",
      "---  ------             --------------  ----- \n",
      " 0   Fault Code         1078 non-null   object\n",
      " 1   Fault              1398 non-null   object\n",
      " 2   Diagnostic         1398 non-null   object\n",
      " 3   Corrective Action  1397 non-null   object\n",
      " 4   PLC                1398 non-null   object\n",
      " 5   Model              1398 non-null   object\n",
      "dtypes: object(6)\n",
      "memory usage: 65.7+ KB\n"
     ]
    }
   ],
   "source": [
    "df.info()"
   ]
  },
  {
   "cell_type": "code",
   "execution_count": 78,
   "id": "8cda2518",
   "metadata": {},
   "outputs": [
    {
     "name": "stdout",
     "output_type": "stream",
     "text": [
      "<class 'pandas.core.frame.DataFrame'>\n",
      "RangeIndex: 1398 entries, 0 to 1397\n",
      "Data columns (total 5 columns):\n",
      " #   Column             Non-Null Count  Dtype \n",
      "---  ------             --------------  ----- \n",
      " 0   Fault              1398 non-null   object\n",
      " 1   Diagnostic         1398 non-null   object\n",
      " 2   Corrective Action  1397 non-null   object\n",
      " 3   PLC                1398 non-null   object\n",
      " 4   Model              1398 non-null   object\n",
      "dtypes: object(5)\n",
      "memory usage: 54.7+ KB\n"
     ]
    }
   ],
   "source": [
    "df.drop(['Fault Code'], axis=1, inplace=True)\n",
    "df.info()"
   ]
  },
  {
   "cell_type": "markdown",
   "id": "14e39e09",
   "metadata": {},
   "source": [
    "# Preprocessing"
   ]
  },
  {
   "cell_type": "code",
   "execution_count": 79,
   "id": "87f0300b",
   "metadata": {},
   "outputs": [
    {
     "data": {
      "text/html": [
       "<div>\n",
       "<style scoped>\n",
       "    .dataframe tbody tr th:only-of-type {\n",
       "        vertical-align: middle;\n",
       "    }\n",
       "\n",
       "    .dataframe tbody tr th {\n",
       "        vertical-align: top;\n",
       "    }\n",
       "\n",
       "    .dataframe thead th {\n",
       "        text-align: right;\n",
       "    }\n",
       "</style>\n",
       "<table border=\"1\" class=\"dataframe\">\n",
       "  <thead>\n",
       "    <tr style=\"text-align: right;\">\n",
       "      <th></th>\n",
       "      <th>Fault</th>\n",
       "      <th>Diagnostic</th>\n",
       "      <th>Corrective Action</th>\n",
       "      <th>PLC</th>\n",
       "      <th>Model</th>\n",
       "    </tr>\n",
       "  </thead>\n",
       "  <tbody>\n",
       "    <tr>\n",
       "      <th>526</th>\n",
       "      <td>connection request error module in use</td>\n",
       "      <td>the connection being accessed is already in use</td>\n",
       "      <td>check for these conditions\\n the controller is...</td>\n",
       "      <td>allen bradely</td>\n",
       "      <td>studio  logix designer</td>\n",
       "    </tr>\n",
       "    <tr>\n",
       "      <th>117</th>\n",
       "      <td>parameter can not be controlled</td>\n",
       "      <td>the data block db that is to be controlled is ...</td>\n",
       "      <td>load the db into the relevant cpu</td>\n",
       "      <td>siemens</td>\n",
       "      <td>step</td>\n",
       "    </tr>\n",
       "    <tr>\n",
       "      <th>760</th>\n",
       "      <td>device number</td>\n",
       "      <td>device was selected for synchronization but do...</td>\n",
       "      <td>select a device that supports synchronization ...</td>\n",
       "      <td>phoenix</td>\n",
       "      <td>axc</td>\n",
       "    </tr>\n",
       "    <tr>\n",
       "      <th>522</th>\n",
       "      <td>requested service specifies an operation that ...</td>\n",
       "      <td>the service specified an operation that is goi...</td>\n",
       "      <td>the size of the data being read or written mus...</td>\n",
       "      <td>allen bradely</td>\n",
       "      <td>studio  logix designer</td>\n",
       "    </tr>\n",
       "    <tr>\n",
       "      <th>577</th>\n",
       "      <td>the end device has a different grandmaster tha...</td>\n",
       "      <td>the drive detected a different ptp grandmaster...</td>\n",
       "      <td>ensure that the drive and the controller can s...</td>\n",
       "      <td>allen bradely</td>\n",
       "      <td>studio  logix designer</td>\n",
       "    </tr>\n",
       "  </tbody>\n",
       "</table>\n",
       "</div>"
      ],
      "text/plain": [
       "                                                 Fault  \\\n",
       "526             connection request error module in use   \n",
       "117                    parameter can not be controlled   \n",
       "760                                      device number   \n",
       "522  requested service specifies an operation that ...   \n",
       "577  the end device has a different grandmaster tha...   \n",
       "\n",
       "                                            Diagnostic  \\\n",
       "526   the connection being accessed is already in use    \n",
       "117  the data block db that is to be controlled is ...   \n",
       "760  device was selected for synchronization but do...   \n",
       "522  the service specified an operation that is goi...   \n",
       "577  the drive detected a different ptp grandmaster...   \n",
       "\n",
       "                                     Corrective Action            PLC  \\\n",
       "526  check for these conditions\\n the controller is...  allen bradely   \n",
       "117                  load the db into the relevant cpu        siemens   \n",
       "760  select a device that supports synchronization ...        phoenix   \n",
       "522  the size of the data being read or written mus...  allen bradely   \n",
       "577  ensure that the drive and the controller can s...  allen bradely   \n",
       "\n",
       "                      Model  \n",
       "526  studio  logix designer  \n",
       "117                   step   \n",
       "760                    axc   \n",
       "522  studio  logix designer  \n",
       "577  studio  logix designer  "
      ]
     },
     "execution_count": 79,
     "metadata": {},
     "output_type": "execute_result"
    }
   ],
   "source": [
    "import re\n",
    "\n",
    "def preprocess_text(text):\n",
    "    # Remove unwanted characters\n",
    "    text = re.sub('[^a-zA-Z\\s]', '', text)\n",
    "    # Convert to lowercase\n",
    "    text = text.lower()\n",
    "    return text\n",
    "\n",
    "df['Corrective Action'] = df['Corrective Action'].astype(str)\n",
    "df['PLC'] = df['PLC'].astype(str)\n",
    "df['Model'] = df['Model'].astype(str)\n",
    "df['Fault'] = df['Fault'].astype(str)\n",
    "df['Diagnostic'] = df['Diagnostic'].astype(str)\n",
    "\n",
    "\n",
    "df['Corrective Action'] = df['Corrective Action'].apply(preprocess_text)\n",
    "df['PLC'] = df['PLC'].apply(preprocess_text)\n",
    "df['Model'] = df['Model'].apply(preprocess_text)\n",
    "df['Fault'] = df['Fault'].apply(preprocess_text)\n",
    "df['Diagnostic'] = df['Diagnostic'].apply(preprocess_text)\n",
    "df.sample(5)"
   ]
  },
  {
   "cell_type": "code",
   "execution_count": 80,
   "id": "7b99b382",
   "metadata": {},
   "outputs": [
    {
     "name": "stdout",
     "output_type": "stream",
     "text": [
      "<class 'pandas.core.frame.DataFrame'>\n",
      "RangeIndex: 1398 entries, 0 to 1397\n",
      "Data columns (total 5 columns):\n",
      " #   Column             Non-Null Count  Dtype \n",
      "---  ------             --------------  ----- \n",
      " 0   Fault              1398 non-null   object\n",
      " 1   Diagnostic         1398 non-null   object\n",
      " 2   Corrective Action  1398 non-null   object\n",
      " 3   PLC                1398 non-null   object\n",
      " 4   Model              1398 non-null   object\n",
      "dtypes: object(5)\n",
      "memory usage: 54.7+ KB\n"
     ]
    }
   ],
   "source": [
    "\n",
    "df.info()"
   ]
  },
  {
   "cell_type": "code",
   "execution_count": 81,
   "id": "1c2b6026",
   "metadata": {},
   "outputs": [
    {
     "name": "stderr",
     "output_type": "stream",
     "text": [
      "[nltk_data] Downloading package punkt to\n",
      "[nltk_data]     C:\\Users\\kibe\\AppData\\Roaming\\nltk_data...\n",
      "[nltk_data]   Package punkt is already up-to-date!\n",
      "[nltk_data] Downloading package wordnet to\n",
      "[nltk_data]     C:\\Users\\kibe\\AppData\\Roaming\\nltk_data...\n",
      "[nltk_data]   Package wordnet is already up-to-date!\n",
      "[nltk_data] Downloading package stopwords to\n",
      "[nltk_data]     C:\\Users\\kibe\\AppData\\Roaming\\nltk_data...\n",
      "[nltk_data]   Package stopwords is already up-to-date!\n"
     ]
    },
    {
     "data": {
      "text/html": [
       "<div>\n",
       "<style scoped>\n",
       "    .dataframe tbody tr th:only-of-type {\n",
       "        vertical-align: middle;\n",
       "    }\n",
       "\n",
       "    .dataframe tbody tr th {\n",
       "        vertical-align: top;\n",
       "    }\n",
       "\n",
       "    .dataframe thead th {\n",
       "        text-align: right;\n",
       "    }\n",
       "</style>\n",
       "<table border=\"1\" class=\"dataframe\">\n",
       "  <thead>\n",
       "    <tr style=\"text-align: right;\">\n",
       "      <th></th>\n",
       "      <th>Fault</th>\n",
       "      <th>Diagnostic</th>\n",
       "      <th>Corrective Action</th>\n",
       "      <th>PLC</th>\n",
       "      <th>Model</th>\n",
       "    </tr>\n",
       "  </thead>\n",
       "  <tbody>\n",
       "    <tr>\n",
       "      <th>74</th>\n",
       "      <td>electrode cannot be standardized</td>\n",
       "      <td>defective preamplifier</td>\n",
       "      <td>check preamplifier and replace if defective</td>\n",
       "      <td>emerson</td>\n",
       "      <td>model hp</td>\n",
       "    </tr>\n",
       "    <tr>\n",
       "      <th>3</th>\n",
       "      <td>high reference imped</td>\n",
       "      <td>coated reference electrode</td>\n",
       "      <td>clean electrode as instructed in sensor manual</td>\n",
       "      <td>emerson</td>\n",
       "      <td>model e</td>\n",
       "    </tr>\n",
       "    <tr>\n",
       "      <th>1159</th>\n",
       "      <td>time selfdiagnostic testing error</td>\n",
       "      <td>a clock error is detected by selfdiagnosis whi...</td>\n",
       "      <td>replace the cpu module</td>\n",
       "      <td>yokogawa</td>\n",
       "      <td>centum</td>\n",
       "    </tr>\n",
       "    <tr>\n",
       "      <th>1245</th>\n",
       "      <td>failed to create device database</td>\n",
       "      <td>disk capacity or system resources are insuffic...</td>\n",
       "      <td>increase the disk capacity or system resources</td>\n",
       "      <td>yokogawa</td>\n",
       "      <td>stardom</td>\n",
       "    </tr>\n",
       "    <tr>\n",
       "      <th>1056</th>\n",
       "      <td>program area error</td>\n",
       "      <td>an instruction which must be written in a spec...</td>\n",
       "      <td>change to prog mode and enter the instruction ...</td>\n",
       "      <td>panasonic</td>\n",
       "      <td>fpr</td>\n",
       "    </tr>\n",
       "  </tbody>\n",
       "</table>\n",
       "</div>"
      ],
      "text/plain": [
       "                                  Fault  \\\n",
       "74     electrode cannot be standardized   \n",
       "3                  high reference imped   \n",
       "1159  time selfdiagnostic testing error   \n",
       "1245   failed to create device database   \n",
       "1056                 program area error   \n",
       "\n",
       "                                             Diagnostic  \\\n",
       "74                               defective preamplifier   \n",
       "3                            coated reference electrode   \n",
       "1159  a clock error is detected by selfdiagnosis whi...   \n",
       "1245  disk capacity or system resources are insuffic...   \n",
       "1056  an instruction which must be written in a spec...   \n",
       "\n",
       "                                      Corrective Action        PLC     Model  \n",
       "74          check preamplifier and replace if defective    emerson  model hp  \n",
       "3        clean electrode as instructed in sensor manual    emerson   model e  \n",
       "1159                             replace the cpu module   yokogawa    centum  \n",
       "1245     increase the disk capacity or system resources   yokogawa   stardom  \n",
       "1056  change to prog mode and enter the instruction ...  panasonic       fpr  "
      ]
     },
     "execution_count": 81,
     "metadata": {},
     "output_type": "execute_result"
    }
   ],
   "source": [
    "#lemmatization and removing stopwords\n",
    "\n",
    "import nltk\n",
    "from nltk.tokenize import word_tokenize\n",
    "from nltk.stem import WordNetLemmatizer\n",
    "from nltk.corpus import stopwords\n",
    "\n",
    "nltk.download('punkt')\n",
    "nltk.download('wordnet')\n",
    "nltk.download('stopwords')\n",
    "\n",
    "lemmatizer = WordNetLemmatizer()\n",
    "stop_words = set(stopwords.words(\"english\"))\n",
    "\n",
    "def preprocess(text):\n",
    "    text = text.lower()\n",
    "    words = word_tokenize(text)\n",
    "    words = [lemmatizer.lemmatize(word) for word in words if word not in stop_words]\n",
    "    return words\n",
    "\n",
    "df['Corrective Action'] = df['Corrective Action'].astype(str)\n",
    "df['PLC'] = df['PLC'].astype(str)\n",
    "df['Model'] = df['Model'].astype(str)\n",
    "df['Fault'] = df['Fault'].astype(str)\n",
    "df['Diagnostic'] = df['Diagnostic'].astype(str)\n",
    "\n",
    "\n",
    "df['Corrective Action'] = df['Corrective Action'].apply(preprocess_text)\n",
    "df['PLC'] = df['PLC'].apply(preprocess_text)\n",
    "df['Model'] = df['Model'].apply(preprocess_text)\n",
    "df['Fault'] = df['Fault'].apply(preprocess_text)\n",
    "df['Diagnostic'] = df['Diagnostic'].apply(preprocess_text)\n",
    "df.sample(5)"
   ]
  },
  {
   "cell_type": "code",
   "execution_count": 83,
   "id": "1bb0f30d",
   "metadata": {},
   "outputs": [],
   "source": [
    "df.to_csv('PLCdata.csv')"
   ]
  },
  {
   "cell_type": "code",
   "execution_count": 96,
   "id": "6e574c76",
   "metadata": {},
   "outputs": [
    {
     "name": "stdout",
     "output_type": "stream",
     "text": [
      "                   Fault                         Diagnostic  \\\n",
      "0  cracked glass failure  broken or cracked glass electrode   \n",
      "1  cracked glass failure  broken or cracked glass electrode   \n",
      "2      zero offset error       reference electrode poisoned   \n",
      "3   high reference imped         coated reference electrode   \n",
      "4   high reference imped              sensor out of process   \n",
      "\n",
      "                                Corrective Action      PLC    Model  \n",
      "0                    replace electrode if cracked  emerson  model e  \n",
      "1                          check wiring for short  emerson  model e  \n",
      "2                    replace reference electorode  emerson  model e  \n",
      "3  clean electrode as instructed in sensor manual  emerson  model e  \n",
      "4  clean electrode as instructed in sensor manual  emerson  model e  \n",
      "                   Fault                         Diagnostic  \\\n",
      "0  cracked glass failure  broken or cracked glass electrode   \n",
      "1  cracked glass failure  broken or cracked glass electrode   \n",
      "2      zero offset error       reference electrode poisoned   \n",
      "3   high reference imped         coated reference electrode   \n",
      "4   high reference imped              sensor out of process   \n",
      "\n",
      "                                Corrective Action      PLC    Model  \n",
      "0                    replace electrode if cracked  emerson  model e  \n",
      "1                          check wiring for short  emerson  model e  \n",
      "2                    replace reference electorode  emerson  model e  \n",
      "3  clean electrode as instructed in sensor manual  emerson  model e  \n",
      "4  clean electrode as instructed in sensor manual  emerson  model e  \n"
     ]
    }
   ],
   "source": [
    "\n",
    "def remove_index(df):\n",
    "    df = df.reset_index(drop=True)\n",
    "    return df\n",
    "\n",
    "#Example usage\n",
    "data = df\n",
    "df = pd.DataFrame(data)\n",
    "print(df.head())\n",
    "df = remove_index(df)\n",
    "print(df.head())"
   ]
  },
  {
   "cell_type": "code",
   "execution_count": 95,
   "id": "b33ea8aa",
   "metadata": {},
   "outputs": [
    {
     "data": {
      "text/html": [
       "<div>\n",
       "<style scoped>\n",
       "    .dataframe tbody tr th:only-of-type {\n",
       "        vertical-align: middle;\n",
       "    }\n",
       "\n",
       "    .dataframe tbody tr th {\n",
       "        vertical-align: top;\n",
       "    }\n",
       "\n",
       "    .dataframe thead th {\n",
       "        text-align: right;\n",
       "    }\n",
       "</style>\n",
       "<table border=\"1\" class=\"dataframe\">\n",
       "  <thead>\n",
       "    <tr style=\"text-align: right;\">\n",
       "      <th></th>\n",
       "      <th>Fault</th>\n",
       "      <th>Diagnostic</th>\n",
       "      <th>Corrective Action</th>\n",
       "      <th>PLC</th>\n",
       "      <th>Model</th>\n",
       "    </tr>\n",
       "  </thead>\n",
       "  <tbody>\n",
       "    <tr>\n",
       "      <th>0</th>\n",
       "      <td>cracked glass failure</td>\n",
       "      <td>broken or cracked glass electrode</td>\n",
       "      <td>replace electrode if cracked</td>\n",
       "      <td>emerson</td>\n",
       "      <td>model e</td>\n",
       "    </tr>\n",
       "    <tr>\n",
       "      <th>1</th>\n",
       "      <td>cracked glass failure</td>\n",
       "      <td>broken or cracked glass electrode</td>\n",
       "      <td>check wiring for short</td>\n",
       "      <td>emerson</td>\n",
       "      <td>model e</td>\n",
       "    </tr>\n",
       "    <tr>\n",
       "      <th>2</th>\n",
       "      <td>zero offset error</td>\n",
       "      <td>reference electrode poisoned</td>\n",
       "      <td>replace reference electorode</td>\n",
       "      <td>emerson</td>\n",
       "      <td>model e</td>\n",
       "    </tr>\n",
       "    <tr>\n",
       "      <th>3</th>\n",
       "      <td>high reference imped</td>\n",
       "      <td>coated reference electrode</td>\n",
       "      <td>clean electrode as instructed in sensor manual</td>\n",
       "      <td>emerson</td>\n",
       "      <td>model e</td>\n",
       "    </tr>\n",
       "    <tr>\n",
       "      <th>4</th>\n",
       "      <td>high reference imped</td>\n",
       "      <td>sensor out of process</td>\n",
       "      <td>clean electrode as instructed in sensor manual</td>\n",
       "      <td>emerson</td>\n",
       "      <td>model e</td>\n",
       "    </tr>\n",
       "  </tbody>\n",
       "</table>\n",
       "</div>"
      ],
      "text/plain": [
       "                   Fault                         Diagnostic  \\\n",
       "0  cracked glass failure  broken or cracked glass electrode   \n",
       "1  cracked glass failure  broken or cracked glass electrode   \n",
       "2      zero offset error       reference electrode poisoned   \n",
       "3   high reference imped         coated reference electrode   \n",
       "4   high reference imped              sensor out of process   \n",
       "\n",
       "                                Corrective Action      PLC    Model  \n",
       "0                    replace electrode if cracked  emerson  model e  \n",
       "1                          check wiring for short  emerson  model e  \n",
       "2                    replace reference electorode  emerson  model e  \n",
       "3  clean electrode as instructed in sensor manual  emerson  model e  \n",
       "4  clean electrode as instructed in sensor manual  emerson  model e  "
      ]
     },
     "execution_count": 95,
     "metadata": {},
     "output_type": "execute_result"
    }
   ],
   "source": [
    "df.head()"
   ]
  },
  {
   "cell_type": "code",
   "execution_count": 6,
   "id": "bf312d41",
   "metadata": {},
   "outputs": [
    {
     "data": {
      "text/html": [
       "<div>\n",
       "<style scoped>\n",
       "    .dataframe tbody tr th:only-of-type {\n",
       "        vertical-align: middle;\n",
       "    }\n",
       "\n",
       "    .dataframe tbody tr th {\n",
       "        vertical-align: top;\n",
       "    }\n",
       "\n",
       "    .dataframe thead th {\n",
       "        text-align: right;\n",
       "    }\n",
       "</style>\n",
       "<table border=\"1\" class=\"dataframe\">\n",
       "  <thead>\n",
       "    <tr style=\"text-align: right;\">\n",
       "      <th></th>\n",
       "      <th>Fault</th>\n",
       "      <th>Diagnostic</th>\n",
       "      <th>Corrective Action</th>\n",
       "      <th>PLC</th>\n",
       "      <th>Model</th>\n",
       "    </tr>\n",
       "  </thead>\n",
       "  <tbody>\n",
       "    <tr>\n",
       "      <th>295</th>\n",
       "      <td>unable to retrieve the project the archive fil...</td>\n",
       "      <td>the archive file has been created with a versi...</td>\n",
       "      <td>if you are using an old version of pkunzip the...</td>\n",
       "      <td>siemens</td>\n",
       "      <td>step</td>\n",
       "    </tr>\n",
       "    <tr>\n",
       "      <th>1</th>\n",
       "      <td>cracked glass failure</td>\n",
       "      <td>broken or cracked glass electrode</td>\n",
       "      <td>check wiring for short</td>\n",
       "      <td>emerson</td>\n",
       "      <td>model e</td>\n",
       "    </tr>\n",
       "    <tr>\n",
       "      <th>568</th>\n",
       "      <td>connection request error no error code is supp...</td>\n",
       "      <td>no error code is supplied by an io module to d...</td>\n",
       "      <td>see the user manual for your device</td>\n",
       "      <td>allen bradely</td>\n",
       "      <td>studio  logix designer</td>\n",
       "    </tr>\n",
       "  </tbody>\n",
       "</table>\n",
       "</div>"
      ],
      "text/plain": [
       "                                                 Fault  \\\n",
       "295  unable to retrieve the project the archive fil...   \n",
       "1                                cracked glass failure   \n",
       "568  connection request error no error code is supp...   \n",
       "\n",
       "                                            Diagnostic  \\\n",
       "295  the archive file has been created with a versi...   \n",
       "1                    broken or cracked glass electrode   \n",
       "568  no error code is supplied by an io module to d...   \n",
       "\n",
       "                                     Corrective Action            PLC  \\\n",
       "295  if you are using an old version of pkunzip the...        siemens   \n",
       "1                               check wiring for short        emerson   \n",
       "568                see the user manual for your device  allen bradely   \n",
       "\n",
       "                      Model  \n",
       "295                   step   \n",
       "1                   model e  \n",
       "568  studio  logix designer  "
      ]
     },
     "execution_count": 6,
     "metadata": {},
     "output_type": "execute_result"
    }
   ],
   "source": [
    "df=pd.read_csv(r\"C:\\Users\\kibe\\Desktop\\Projects\\PLC project\\PLC-Fault-Predictiction-Algo\\PLCdata.csv\",index_col=[0])\n",
    "df.sample(3)"
   ]
  },
  {
   "cell_type": "code",
   "execution_count": 7,
   "id": "1167b5b9",
   "metadata": {},
   "outputs": [
    {
     "data": {
      "text/plain": [
       "0                            replace electrode if cracked\n",
       "1                                  check wiring for short\n",
       "2                            replace reference electorode\n",
       "3          clean electrode as instructed in sensor manual\n",
       "4          clean electrode as instructed in sensor manual\n",
       "                              ...                        \n",
       "1393                            increase the memory space\n",
       "1394    use the proper physical cable connections from...\n",
       "1395    make sure you use cables with appropriate cond...\n",
       "1396    make sure the cable length does not exceed spe...\n",
       "1397    position logo cm as interface on the far right...\n",
       "Name: Corrective Action, Length: 1398, dtype: object"
      ]
     },
     "execution_count": 7,
     "metadata": {},
     "output_type": "execute_result"
    }
   ],
   "source": [
    "df['Corrective Action']"
   ]
  },
  {
   "cell_type": "code",
   "execution_count": 109,
   "id": "b0537cee",
   "metadata": {},
   "outputs": [],
   "source": [
    "# converting to string\n",
    "df_new['Diagnostic'] = df_new['Diagnostic'].str.split(',') \n",
    "df_new['Corrective Action'] = df_new['Corrective Action'].str.split(',') \n",
    "df_new['PLC'] = df_new['PLC'].str.split(',') \n",
    "df_new['Model'] = df_new['Model'].str.split(',') \n",
    "if all(map(lambda x: type(x)==str and \",\" in x, df_new[\"Diagnostic\"])):\n",
    "    df_new['Diagnostic'] = df_new['Diagnostic'].str.split(',')"
   ]
  },
  {
   "cell_type": "code",
   "execution_count": 111,
   "id": "95404a6c",
   "metadata": {},
   "outputs": [
    {
     "data": {
      "text/plain": [
       "0                   ['broken or cracked glass electrode']\n",
       "1                   ['broken or cracked glass electrode']\n",
       "2                        ['reference electrode poisoned']\n",
       "3                          ['coated reference electrode']\n",
       "4                               ['sensor out of process']\n",
       "                              ...                        \n",
       "1393    ['insufficient memory space cannot add a block...\n",
       "1394    ['physical cable connections from the end devi...\n",
       "1395    ['there is no appropriate conductor crosssecti...\n",
       "1396          ['cable length exceeds the specifications']\n",
       "1397    ['communication between the logo system and th...\n",
       "Name: Diagnostic, Length: 1398, dtype: object"
      ]
     },
     "execution_count": 111,
     "metadata": {},
     "output_type": "execute_result"
    }
   ],
   "source": [
    "#df_new = df_new.astype(str)\n",
    "df['Diagnostic']"
   ]
  },
  {
   "cell_type": "code",
   "execution_count": 34,
   "id": "5be67e35",
   "metadata": {},
   "outputs": [
    {
     "name": "stderr",
     "output_type": "stream",
     "text": [
      "[nltk_data] Downloading package punkt to\n",
      "[nltk_data]     C:\\Users\\kibe\\AppData\\Roaming\\nltk_data...\n",
      "[nltk_data]   Package punkt is already up-to-date!\n"
     ]
    },
    {
     "name": "stdout",
     "output_type": "stream",
     "text": [
      "1398\n",
      "1398\n",
      "1398\n",
      "1398\n",
      "1398\n"
     ]
    }
   ],
   "source": [
    "import nltk\n",
    "nltk.download('punkt')\n",
    "from nltk.tokenize import word_tokenize\n",
    "df = df.applymap(str)\n",
    "# Tokenize the text data\n",
    "def tokenize_text(text):\n",
    "    # Tokenize the text into words\n",
    "    tokens = word_tokenize(text)\n",
    "    return tokens\n",
    "\n",
    "text_data =df['Corrective Action']\n",
    "tokens1 = [tokenize_text(text) for text in text_data]\n",
    "print(len(tokens1))\n",
    "\n",
    "text_data =df['Fault']\n",
    "tokens2 = [tokenize_text(text) for text in text_data]\n",
    "print(len(tokens2))\n",
    "text_data =df['PLC']\n",
    "tokens3 = [tokenize_text(text) for text in text_data]\n",
    "print(len(tokens3))\n",
    "text_data =df['Model']\n",
    "tokens4 = [tokenize_text(text) for text in text_data]\n",
    "print(len(tokens4))\n",
    "text_data =df['Diagnostic']\n",
    "tokens5 = [tokenize_text(text) for text in text_data]\n",
    "print(len(tokens5))\n",
    "\n",
    "\n"
   ]
  },
  {
   "cell_type": "code",
   "execution_count": 36,
   "id": "fa0d3d83",
   "metadata": {},
   "outputs": [],
   "source": [
    "Diagnostic=tokens5\n",
    "Model=tokens4\n",
    "PLC=tokens3\n",
    "Fault=tokens2\n",
    "CorrectiveAction=tokens1"
   ]
  },
  {
   "cell_type": "code",
   "execution_count": 37,
   "id": "0c651566",
   "metadata": {},
   "outputs": [
    {
     "name": "stderr",
     "output_type": "stream",
     "text": [
      "V:\\Anaconda\\lib\\site-packages\\numpy\\lib\\npyio.py:528: VisibleDeprecationWarning: Creating an ndarray from ragged nested sequences (which is a list-or-tuple of lists-or-tuples-or ndarrays with different lengths or shapes) is deprecated. If you meant to do this, you must specify 'dtype=object' when creating the ndarray.\n",
      "  arr = np.asanyarray(arr)\n"
     ]
    }
   ],
   "source": [
    "np.save(\"Diagnostic.npy\", Diagnostic)\n",
    "np.save(\"Model.npy\", Model)\n",
    "np.save(\"PLC.npy\", PLC)\n",
    "np.save(\"Fault.npy\", Fault)\n",
    "np.save(\"CorrectiveAction.npy\", CorrectiveAction)"
   ]
  },
  {
   "cell_type": "code",
   "execution_count": 38,
   "id": "a9393353",
   "metadata": {},
   "outputs": [],
   "source": [
    "Diagnostic = np.load('Diagnostic.npy',allow_pickle=True)\n",
    "Model = np.load('Model.npy',allow_pickle=True)\n",
    "PLC = np.load('PLC.npy',allow_pickle=True)\n",
    "Fault = np.load('Fault.npy',allow_pickle=True)\n",
    "CorrectiveAction = np.load('CorrectiveAction.npy',allow_pickle=True)"
   ]
  },
  {
   "cell_type": "markdown",
   "id": "444bac4b",
   "metadata": {},
   "source": [
    "\n",
    "\n",
    "# Vectorization"
   ]
  },
  {
   "cell_type": "code",
   "execution_count": 40,
   "id": "7669705e",
   "metadata": {},
   "outputs": [],
   "source": [
    "from gensim.models import Word2Vec\n",
    "df_list = CorrectiveAction+Fault+PLC+Model+Diagnostic\n",
    "\n",
    "lists_vectors = {'CorrectiveAction': CorrectiveAction, 'Fault': Fault, 'PLC': PLC, 'Model': Model, 'Diagnostic': Diagnostic}\n",
    "for name,list_ in lists_vectors.items():\n",
    "    model = Word2Vec(list_)\n",
    "    vectors = model.wv[model.wv.key_to_index]\n",
    "    # store the vectors in a separate variable\n",
    "    lists_vectors[name] = vectors"
   ]
  },
  {
   "cell_type": "code",
   "execution_count": 65,
   "id": "a5f7fd11",
   "metadata": {},
   "outputs": [
    {
     "name": "stdout",
     "output_type": "stream",
     "text": [
      "Shape of list 1: (1398,)\n",
      "Shape of list 2: (1398,)\n",
      "Shape of list 3: (1398,)\n",
      "Shape of list 4: ()\n",
      "Shape of list 5: (1398,)\n"
     ]
    }
   ],
   "source": [
    "df_list = [CorrectiveAction,Fault,PLC,Model,Diagnostic]\n",
    "\n",
    "# iterate over the lists and output the shape of each list\n",
    "for i, lst in enumerate(df_list):\n",
    "    shape = np.array(lst).shape\n",
    "    print(f\"Shape of list {i+1}: {shape}\")"
   ]
  },
  {
   "cell_type": "code",
   "execution_count": null,
   "id": "0682513d",
   "metadata": {},
   "outputs": [],
   "source": []
  },
  {
   "cell_type": "code",
   "execution_count": 64,
   "id": "11e32b93",
   "metadata": {},
   "outputs": [
    {
     "ename": "TypeError",
     "evalue": "Singleton array array(<class 'keras.engine.training.Model'>, dtype=object) cannot be considered a valid collection.",
     "output_type": "error",
     "traceback": [
      "\u001b[1;31m---------------------------------------------------------------------------\u001b[0m",
      "\u001b[1;31mTypeError\u001b[0m                                 Traceback (most recent call last)",
      "Input \u001b[1;32mIn [64]\u001b[0m, in \u001b[0;36m<cell line: 19>\u001b[1;34m()\u001b[0m\n\u001b[0;32m     16\u001b[0m y_fault \u001b[38;5;241m=\u001b[39m Fault\n\u001b[0;32m     18\u001b[0m \u001b[38;5;66;03m# Split the data into training and testing sets\u001b[39;00m\n\u001b[1;32m---> 19\u001b[0m X_train, X_test, y_diagnostic_train, y_diagnostic_test, y_corrective_action_train, y_corrective_action_test, y_PLC_train, y_PLC_test, y_model_train, y_model_test, y_fault_train, y_fault_test \u001b[38;5;241m=\u001b[39m \u001b[43mtrain_test_split\u001b[49m\u001b[43m(\u001b[49m\u001b[43mX\u001b[49m\u001b[43m,\u001b[49m\u001b[43m \u001b[49m\u001b[43my_diagnostic\u001b[49m\u001b[43m,\u001b[49m\u001b[43m \u001b[49m\u001b[43my_corrective_action\u001b[49m\u001b[43m,\u001b[49m\u001b[43m \u001b[49m\u001b[43my_PLC\u001b[49m\u001b[43m,\u001b[49m\u001b[43m \u001b[49m\u001b[43my_model\u001b[49m\u001b[43m,\u001b[49m\u001b[43m \u001b[49m\u001b[43my_fault\u001b[49m\u001b[43m,\u001b[49m\u001b[43m \u001b[49m\u001b[43mtest_size\u001b[49m\u001b[38;5;241;43m=\u001b[39;49m\u001b[38;5;241;43m0.2\u001b[39;49m\u001b[43m)\u001b[49m\n\u001b[0;32m     21\u001b[0m \u001b[38;5;66;03m# create the model\u001b[39;00m\n\u001b[0;32m     22\u001b[0m inputs \u001b[38;5;241m=\u001b[39m Input(shape\u001b[38;5;241m=\u001b[39m(\u001b[38;5;241m3\u001b[39m,))\n",
      "File \u001b[1;32mV:\\Anaconda\\lib\\site-packages\\sklearn\\model_selection\\_split.py:2417\u001b[0m, in \u001b[0;36mtrain_test_split\u001b[1;34m(test_size, train_size, random_state, shuffle, stratify, *arrays)\u001b[0m\n\u001b[0;32m   2414\u001b[0m \u001b[38;5;28;01mif\u001b[39;00m n_arrays \u001b[38;5;241m==\u001b[39m \u001b[38;5;241m0\u001b[39m:\n\u001b[0;32m   2415\u001b[0m     \u001b[38;5;28;01mraise\u001b[39;00m \u001b[38;5;167;01mValueError\u001b[39;00m(\u001b[38;5;124m\"\u001b[39m\u001b[38;5;124mAt least one array required as input\u001b[39m\u001b[38;5;124m\"\u001b[39m)\n\u001b[1;32m-> 2417\u001b[0m arrays \u001b[38;5;241m=\u001b[39m \u001b[43mindexable\u001b[49m\u001b[43m(\u001b[49m\u001b[38;5;241;43m*\u001b[39;49m\u001b[43marrays\u001b[49m\u001b[43m)\u001b[49m\n\u001b[0;32m   2419\u001b[0m n_samples \u001b[38;5;241m=\u001b[39m _num_samples(arrays[\u001b[38;5;241m0\u001b[39m])\n\u001b[0;32m   2420\u001b[0m n_train, n_test \u001b[38;5;241m=\u001b[39m _validate_shuffle_split(\n\u001b[0;32m   2421\u001b[0m     n_samples, test_size, train_size, default_test_size\u001b[38;5;241m=\u001b[39m\u001b[38;5;241m0.25\u001b[39m\n\u001b[0;32m   2422\u001b[0m )\n",
      "File \u001b[1;32mV:\\Anaconda\\lib\\site-packages\\sklearn\\utils\\validation.py:378\u001b[0m, in \u001b[0;36mindexable\u001b[1;34m(*iterables)\u001b[0m\n\u001b[0;32m    359\u001b[0m \u001b[38;5;124;03m\"\"\"Make arrays indexable for cross-validation.\u001b[39;00m\n\u001b[0;32m    360\u001b[0m \n\u001b[0;32m    361\u001b[0m \u001b[38;5;124;03mChecks consistent length, passes through None, and ensures that everything\u001b[39;00m\n\u001b[1;32m   (...)\u001b[0m\n\u001b[0;32m    374\u001b[0m \u001b[38;5;124;03m    sparse matrix, or dataframe) or `None`.\u001b[39;00m\n\u001b[0;32m    375\u001b[0m \u001b[38;5;124;03m\"\"\"\u001b[39;00m\n\u001b[0;32m    377\u001b[0m result \u001b[38;5;241m=\u001b[39m [_make_indexable(X) \u001b[38;5;28;01mfor\u001b[39;00m X \u001b[38;5;129;01min\u001b[39;00m iterables]\n\u001b[1;32m--> 378\u001b[0m \u001b[43mcheck_consistent_length\u001b[49m\u001b[43m(\u001b[49m\u001b[38;5;241;43m*\u001b[39;49m\u001b[43mresult\u001b[49m\u001b[43m)\u001b[49m\n\u001b[0;32m    379\u001b[0m \u001b[38;5;28;01mreturn\u001b[39;00m result\n",
      "File \u001b[1;32mV:\\Anaconda\\lib\\site-packages\\sklearn\\utils\\validation.py:329\u001b[0m, in \u001b[0;36mcheck_consistent_length\u001b[1;34m(*arrays)\u001b[0m\n\u001b[0;32m    318\u001b[0m \u001b[38;5;28;01mdef\u001b[39;00m \u001b[38;5;21mcheck_consistent_length\u001b[39m(\u001b[38;5;241m*\u001b[39marrays):\n\u001b[0;32m    319\u001b[0m     \u001b[38;5;124;03m\"\"\"Check that all arrays have consistent first dimensions.\u001b[39;00m\n\u001b[0;32m    320\u001b[0m \n\u001b[0;32m    321\u001b[0m \u001b[38;5;124;03m    Checks whether all objects in arrays have the same shape or length.\u001b[39;00m\n\u001b[1;32m   (...)\u001b[0m\n\u001b[0;32m    326\u001b[0m \u001b[38;5;124;03m        Objects that will be checked for consistent length.\u001b[39;00m\n\u001b[0;32m    327\u001b[0m \u001b[38;5;124;03m    \"\"\"\u001b[39;00m\n\u001b[1;32m--> 329\u001b[0m     lengths \u001b[38;5;241m=\u001b[39m [_num_samples(X) \u001b[38;5;28;01mfor\u001b[39;00m X \u001b[38;5;129;01min\u001b[39;00m arrays \u001b[38;5;28;01mif\u001b[39;00m X \u001b[38;5;129;01mis\u001b[39;00m \u001b[38;5;129;01mnot\u001b[39;00m \u001b[38;5;28;01mNone\u001b[39;00m]\n\u001b[0;32m    330\u001b[0m     uniques \u001b[38;5;241m=\u001b[39m np\u001b[38;5;241m.\u001b[39munique(lengths)\n\u001b[0;32m    331\u001b[0m     \u001b[38;5;28;01mif\u001b[39;00m \u001b[38;5;28mlen\u001b[39m(uniques) \u001b[38;5;241m>\u001b[39m \u001b[38;5;241m1\u001b[39m:\n",
      "File \u001b[1;32mV:\\Anaconda\\lib\\site-packages\\sklearn\\utils\\validation.py:329\u001b[0m, in \u001b[0;36m<listcomp>\u001b[1;34m(.0)\u001b[0m\n\u001b[0;32m    318\u001b[0m \u001b[38;5;28;01mdef\u001b[39;00m \u001b[38;5;21mcheck_consistent_length\u001b[39m(\u001b[38;5;241m*\u001b[39marrays):\n\u001b[0;32m    319\u001b[0m     \u001b[38;5;124;03m\"\"\"Check that all arrays have consistent first dimensions.\u001b[39;00m\n\u001b[0;32m    320\u001b[0m \n\u001b[0;32m    321\u001b[0m \u001b[38;5;124;03m    Checks whether all objects in arrays have the same shape or length.\u001b[39;00m\n\u001b[1;32m   (...)\u001b[0m\n\u001b[0;32m    326\u001b[0m \u001b[38;5;124;03m        Objects that will be checked for consistent length.\u001b[39;00m\n\u001b[0;32m    327\u001b[0m \u001b[38;5;124;03m    \"\"\"\u001b[39;00m\n\u001b[1;32m--> 329\u001b[0m     lengths \u001b[38;5;241m=\u001b[39m [\u001b[43m_num_samples\u001b[49m\u001b[43m(\u001b[49m\u001b[43mX\u001b[49m\u001b[43m)\u001b[49m \u001b[38;5;28;01mfor\u001b[39;00m X \u001b[38;5;129;01min\u001b[39;00m arrays \u001b[38;5;28;01mif\u001b[39;00m X \u001b[38;5;129;01mis\u001b[39;00m \u001b[38;5;129;01mnot\u001b[39;00m \u001b[38;5;28;01mNone\u001b[39;00m]\n\u001b[0;32m    330\u001b[0m     uniques \u001b[38;5;241m=\u001b[39m np\u001b[38;5;241m.\u001b[39munique(lengths)\n\u001b[0;32m    331\u001b[0m     \u001b[38;5;28;01mif\u001b[39;00m \u001b[38;5;28mlen\u001b[39m(uniques) \u001b[38;5;241m>\u001b[39m \u001b[38;5;241m1\u001b[39m:\n",
      "File \u001b[1;32mV:\\Anaconda\\lib\\site-packages\\sklearn\\utils\\validation.py:269\u001b[0m, in \u001b[0;36m_num_samples\u001b[1;34m(x)\u001b[0m\n\u001b[0;32m    267\u001b[0m \u001b[38;5;28;01mif\u001b[39;00m \u001b[38;5;28mhasattr\u001b[39m(x, \u001b[38;5;124m\"\u001b[39m\u001b[38;5;124mshape\u001b[39m\u001b[38;5;124m\"\u001b[39m) \u001b[38;5;129;01mand\u001b[39;00m x\u001b[38;5;241m.\u001b[39mshape \u001b[38;5;129;01mis\u001b[39;00m \u001b[38;5;129;01mnot\u001b[39;00m \u001b[38;5;28;01mNone\u001b[39;00m:\n\u001b[0;32m    268\u001b[0m     \u001b[38;5;28;01mif\u001b[39;00m \u001b[38;5;28mlen\u001b[39m(x\u001b[38;5;241m.\u001b[39mshape) \u001b[38;5;241m==\u001b[39m \u001b[38;5;241m0\u001b[39m:\n\u001b[1;32m--> 269\u001b[0m         \u001b[38;5;28;01mraise\u001b[39;00m \u001b[38;5;167;01mTypeError\u001b[39;00m(\n\u001b[0;32m    270\u001b[0m             \u001b[38;5;124m\"\u001b[39m\u001b[38;5;124mSingleton array \u001b[39m\u001b[38;5;132;01m%r\u001b[39;00m\u001b[38;5;124m cannot be considered a valid collection.\u001b[39m\u001b[38;5;124m\"\u001b[39m \u001b[38;5;241m%\u001b[39m x\n\u001b[0;32m    271\u001b[0m         )\n\u001b[0;32m    272\u001b[0m     \u001b[38;5;66;03m# Check that shape is returning an integer or default to len\u001b[39;00m\n\u001b[0;32m    273\u001b[0m     \u001b[38;5;66;03m# Dask dataframes may not return numeric shape[0] value\u001b[39;00m\n\u001b[0;32m    274\u001b[0m     \u001b[38;5;28;01mif\u001b[39;00m \u001b[38;5;28misinstance\u001b[39m(x\u001b[38;5;241m.\u001b[39mshape[\u001b[38;5;241m0\u001b[39m], numbers\u001b[38;5;241m.\u001b[39mIntegral):\n",
      "\u001b[1;31mTypeError\u001b[0m: Singleton array array(<class 'keras.engine.training.Model'>, dtype=object) cannot be considered a valid collection."
     ]
    }
   ],
   "source": [
    "from sklearn.model_selection import train_test_split\n",
    "from keras.models import Model, Sequential\n",
    "from keras.layers import Dense, Input\n",
    "from keras.utils import to_categorical\n",
    "import numpy as np\n",
    "\n",
    "# reshape the input dataset X\n",
    "X = np.array(X)\n",
    "X = X.reshape(-1, 3)\n",
    "\n",
    "# Split the data into input features and target variables\n",
    "y_diagnostic = Diagnostic\n",
    "y_corrective_action = CorrectiveAction\n",
    "y_PLC = PLC\n",
    "y_model = Model\n",
    "y_fault = Fault\n",
    "\n",
    "# Split the data into training and testing sets\n",
    "X_train, X_test, y_diagnostic_train, y_diagnostic_test, y_corrective_action_train, y_corrective_action_test, y_PLC_train, y_PLC_test, y_model_train, y_model_test, y_fault_train, y_fault_test = train_test_split(X, y_diagnostic, y_corrective_action, y_PLC, y_model, y_fault, test_size=0.2)\n",
    "\n",
    "# create the model\n",
    "inputs = Input(shape=(3,))\n",
    "x = Dense(64, activation='relu')(inputs)\n",
    "x = Dense(64, activation='relu')(x)\n",
    "diagnostic_prediction = Dense(len(diagnostics_vocab), activation='softmax', name='diagnostic_output')(x)\n",
    "corrective_action_prediction = Dense(len(corrective_action_vocab), activation='softmax', name='corrective_action_output')(x)\n",
    "model = Model(inputs=inputs, outputs=[diagnostic_prediction, corrective_action_prediction])\n",
    "\n",
    "# compile the model\n",
    "model.compile(optimizer='adam', loss=['categorical_crossentropy','categorical_crossentropy'], metrics=['accuracy'])\n",
    "\n",
    "\n",
    "\n",
    "# fit the model on the data\n",
    "model.fit(X_train, [y_diagnostic_train, y_corrective_action_train], epochs=50, batch_size=32)\n"
   ]
  },
  {
   "cell_type": "code",
   "execution_count": 60,
   "id": "981e125e",
   "metadata": {},
   "outputs": [
    {
     "name": "stdout",
     "output_type": "stream",
     "text": [
      "Accuracy: 4.29%\n"
     ]
    }
   ],
   "source": [
    "from sklearn.preprocessing import OneHotEncoder\n",
    "from sklearn.ensemble import RandomForestClassifier\n",
    "from sklearn.model_selection import train_test_split\n",
    "\n",
    "# Load the input data (Fault, PLC, Model)\n",
    "fault_list =Fault\n",
    "plc_list = PLC\n",
    "model_list =Model\n",
    "\n",
    "max_length = max(len(fault_list), len(plc_list), len(model_list))\n",
    "fault_list = np.repeat(fault_list, max_length/len(fault_list))\n",
    "plc_list = np.repeat(plc_list, max_length/len(plc_list))\n",
    "model_list = np.repeat(model_list, max_length/len(model_list))\n",
    "\n",
    "\n",
    "\n",
    "\n",
    "diagnostic_list = Diagnostic\n",
    "corrective_action_list = CorrectiveAction\n",
    "\n",
    "max_length = max(len(diagnostic_list), len(corrective_action_list))\n",
    "diagnostic_list = np.repeat(diagnostic_list, max_length/len(diagnostic_list))\n",
    "corrective_action_list = np.repeat(corrective_action_list, max_length/len(corrective_action_list))\n",
    "\n",
    "\n",
    "\n",
    "fault_list = [' '.join(fault) for fault in fault_list]\n",
    "plc_list = [' '.join(plc) for plc in plc_list]\n",
    "model_list = [' '.join(model) for model in model_list]\n",
    "diagnostic_list = [' '.join(diagnostic) for diagnostic in diagnostic_list]\n",
    "corrective_action_list = [' '.join(corrective_action) for corrective_action in corrective_action_list]\n",
    "\n",
    "X = np.column_stack((fault_list, plc_list, model_list))\n",
    "y = np.column_stack((diagnostic_list, corrective_action_list))\n",
    "\n",
    "\n",
    "enc = OneHotEncoder()\n",
    "X = enc.fit_transform(X)\n",
    "\n",
    "enc = OneHotEncoder()\n",
    "y = enc.fit_transform(y).toarray()\n",
    "\n",
    "X_train, X_test, y_train, y_test = train_test_split(X, y, test_size=0.2)\n",
    "\n",
    "clf = RandomForestClassifier(n_estimators=100, random_state=42)\n",
    "\n",
    "clf.fit(X_train, y_train)\n",
    "\n",
    "accuracy = clf.score(X_test, y_test)\n",
    "print(\"Accuracy: {:.2f}%\".format(accuracy*100))"
   ]
  }
 ],
 "metadata": {
  "kernelspec": {
   "display_name": "Python 3 (ipykernel)",
   "language": "python",
   "name": "python3"
  },
  "language_info": {
   "codemirror_mode": {
    "name": "ipython",
    "version": 3
   },
   "file_extension": ".py",
   "mimetype": "text/x-python",
   "name": "python",
   "nbconvert_exporter": "python",
   "pygments_lexer": "ipython3",
   "version": "3.9.12"
  }
 },
 "nbformat": 4,
 "nbformat_minor": 5
}
