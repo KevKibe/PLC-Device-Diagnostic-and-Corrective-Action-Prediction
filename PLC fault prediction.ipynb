{
 "cells": [
  {
   "cell_type": "code",
   "execution_count": 1,
   "id": "a8429255",
   "metadata": {},
   "outputs": [],
   "source": [
    "import pandas as pd\n"
   ]
  },
  {
   "cell_type": "code",
   "execution_count": 38,
   "id": "99190246",
   "metadata": {},
   "outputs": [
    {
     "data": {
      "text/html": [
       "<div>\n",
       "<style scoped>\n",
       "    .dataframe tbody tr th:only-of-type {\n",
       "        vertical-align: middle;\n",
       "    }\n",
       "\n",
       "    .dataframe tbody tr th {\n",
       "        vertical-align: top;\n",
       "    }\n",
       "\n",
       "    .dataframe thead th {\n",
       "        text-align: right;\n",
       "    }\n",
       "</style>\n",
       "<table border=\"1\" class=\"dataframe\">\n",
       "  <thead>\n",
       "    <tr style=\"text-align: right;\">\n",
       "      <th></th>\n",
       "      <th>Fault Code</th>\n",
       "      <th>Fault</th>\n",
       "      <th>Diagnostic</th>\n",
       "      <th>Corrective Action</th>\n",
       "      <th>PLC</th>\n",
       "      <th>Model</th>\n",
       "    </tr>\n",
       "  </thead>\n",
       "  <tbody>\n",
       "    <tr>\n",
       "      <th>0</th>\n",
       "      <td>NaN</td>\n",
       "      <td>Cracked glass failure</td>\n",
       "      <td>Broken or cracked glass electrode</td>\n",
       "      <td>Replace electrode if cracked.</td>\n",
       "      <td>Emerson</td>\n",
       "      <td>Model 54e</td>\n",
       "    </tr>\n",
       "    <tr>\n",
       "      <th>1</th>\n",
       "      <td>NaN</td>\n",
       "      <td>Cracked glass failure</td>\n",
       "      <td>Broken or cracked glass electrode</td>\n",
       "      <td>Check wiring for short.</td>\n",
       "      <td>Emerson</td>\n",
       "      <td>Model 54e</td>\n",
       "    </tr>\n",
       "    <tr>\n",
       "      <th>2</th>\n",
       "      <td>NaN</td>\n",
       "      <td>Zero offset error</td>\n",
       "      <td>Reference electrode poisoned</td>\n",
       "      <td>Replace reference electorode</td>\n",
       "      <td>Emerson</td>\n",
       "      <td>Model 54e</td>\n",
       "    </tr>\n",
       "    <tr>\n",
       "      <th>3</th>\n",
       "      <td>NaN</td>\n",
       "      <td>High reference imped</td>\n",
       "      <td>Coated reference electrode</td>\n",
       "      <td>Clean electrode as instructed in sensor manual</td>\n",
       "      <td>Emerson</td>\n",
       "      <td>Model 54e</td>\n",
       "    </tr>\n",
       "    <tr>\n",
       "      <th>4</th>\n",
       "      <td>NaN</td>\n",
       "      <td>High reference imped</td>\n",
       "      <td>Sensor out of process.</td>\n",
       "      <td>Clean electrode as instructed in sensor manual</td>\n",
       "      <td>Emerson</td>\n",
       "      <td>Model 54e</td>\n",
       "    </tr>\n",
       "  </tbody>\n",
       "</table>\n",
       "</div>"
      ],
      "text/plain": [
       "  Fault Code                  Fault                         Diagnostic  \\\n",
       "0        NaN  Cracked glass failure  Broken or cracked glass electrode   \n",
       "1        NaN  Cracked glass failure  Broken or cracked glass electrode   \n",
       "2        NaN      Zero offset error       Reference electrode poisoned   \n",
       "3        NaN   High reference imped         Coated reference electrode   \n",
       "4        NaN   High reference imped             Sensor out of process.   \n",
       "\n",
       "                                Corrective Action      PLC      Model  \n",
       "0                   Replace electrode if cracked.  Emerson  Model 54e  \n",
       "1                         Check wiring for short.  Emerson  Model 54e  \n",
       "2                    Replace reference electorode  Emerson  Model 54e  \n",
       "3  Clean electrode as instructed in sensor manual  Emerson  Model 54e  \n",
       "4  Clean electrode as instructed in sensor manual  Emerson  Model 54e  "
      ]
     },
     "execution_count": 38,
     "metadata": {},
     "output_type": "execute_result"
    }
   ],
   "source": [
    "df= pd.read_excel(r\"C:\\Users\\kibe\\Desktop\\Projects\\PLC project\\PLC Dataset-6.xlsx\")\n",
    "df.head()"
   ]
  },
  {
   "cell_type": "code",
   "execution_count": 39,
   "id": "2cdc7274",
   "metadata": {},
   "outputs": [
    {
     "name": "stdout",
     "output_type": "stream",
     "text": [
      "<class 'pandas.core.frame.DataFrame'>\n",
      "RangeIndex: 1398 entries, 0 to 1397\n",
      "Data columns (total 6 columns):\n",
      " #   Column             Non-Null Count  Dtype \n",
      "---  ------             --------------  ----- \n",
      " 0   Fault Code         1078 non-null   object\n",
      " 1   Fault              1398 non-null   object\n",
      " 2   Diagnostic         1398 non-null   object\n",
      " 3   Corrective Action  1397 non-null   object\n",
      " 4   PLC                1398 non-null   object\n",
      " 5   Model              1398 non-null   object\n",
      "dtypes: object(6)\n",
      "memory usage: 65.7+ KB\n"
     ]
    }
   ],
   "source": [
    "df.info()"
   ]
  },
  {
   "cell_type": "code",
   "execution_count": 41,
   "id": "07120bf8",
   "metadata": {},
   "outputs": [
    {
     "name": "stdout",
     "output_type": "stream",
     "text": [
      "<class 'pandas.core.frame.DataFrame'>\n",
      "RangeIndex: 1398 entries, 0 to 1397\n",
      "Data columns (total 5 columns):\n",
      " #   Column             Non-Null Count  Dtype \n",
      "---  ------             --------------  ----- \n",
      " 0   Fault              1398 non-null   object\n",
      " 1   Diagnostic         1398 non-null   object\n",
      " 2   Corrective Action  1397 non-null   object\n",
      " 3   PLC                1398 non-null   object\n",
      " 4   Model              1398 non-null   object\n",
      "dtypes: object(5)\n",
      "memory usage: 54.7+ KB\n"
     ]
    }
   ],
   "source": [
    "df.drop(['Fault Code'], axis=1, inplace=True)\n",
    "df.info()"
   ]
  },
  {
   "cell_type": "markdown",
   "id": "6666cc73",
   "metadata": {},
   "source": [
    "# Preprocessing"
   ]
  },
  {
   "cell_type": "code",
   "execution_count": 60,
   "id": "ba19d8bc",
   "metadata": {},
   "outputs": [
    {
     "data": {
      "text/html": [
       "<div>\n",
       "<style scoped>\n",
       "    .dataframe tbody tr th:only-of-type {\n",
       "        vertical-align: middle;\n",
       "    }\n",
       "\n",
       "    .dataframe tbody tr th {\n",
       "        vertical-align: top;\n",
       "    }\n",
       "\n",
       "    .dataframe thead th {\n",
       "        text-align: right;\n",
       "    }\n",
       "</style>\n",
       "<table border=\"1\" class=\"dataframe\">\n",
       "  <thead>\n",
       "    <tr style=\"text-align: right;\">\n",
       "      <th></th>\n",
       "      <th>Fault</th>\n",
       "      <th>Diagnostic</th>\n",
       "      <th>Corrective Action</th>\n",
       "      <th>PLC</th>\n",
       "      <th>Model</th>\n",
       "    </tr>\n",
       "  </thead>\n",
       "  <tbody>\n",
       "    <tr>\n",
       "      <th>638</th>\n",
       "      <td>ok led slow blink and all others are off</td>\n",
       "      <td>did not configure slot</td>\n",
       "      <td>make sure interface is in the correct slot on ...</td>\n",
       "      <td>ge</td>\n",
       "      <td>series</td>\n",
       "    </tr>\n",
       "    <tr>\n",
       "      <th>1118</th>\n",
       "      <td>failed to write to flash memory</td>\n",
       "      <td>flash memory may be faulty</td>\n",
       "      <td>change the cpu module</td>\n",
       "      <td>yokogawa</td>\n",
       "      <td>centum</td>\n",
       "    </tr>\n",
       "    <tr>\n",
       "      <th>197</th>\n",
       "      <td>reference data could not be generated</td>\n",
       "      <td>error in the database</td>\n",
       "      <td>the project can be correctded with save a with...</td>\n",
       "      <td>siemens</td>\n",
       "      <td>step</td>\n",
       "    </tr>\n",
       "    <tr>\n",
       "      <th>269</th>\n",
       "      <td>the order wa interrupted to the tsadapter beca...</td>\n",
       "      <td>if you attempt to get connected via long telep...</td>\n",
       "      <td>in teleservice under option setting monitoring...</td>\n",
       "      <td>siemens</td>\n",
       "      <td>step</td>\n",
       "    </tr>\n",
       "    <tr>\n",
       "      <th>1389</th>\n",
       "      <td>bollard error</td>\n",
       "      <td>bollard will not rise</td>\n",
       "      <td>one of the safety sensor is hooked reset senso...</td>\n",
       "      <td>siemens</td>\n",
       "      <td>logo</td>\n",
       "    </tr>\n",
       "  </tbody>\n",
       "</table>\n",
       "</div>"
      ],
      "text/plain": [
       "                                                  Fault  \\\n",
       "638            ok led slow blink and all others are off   \n",
       "1118                    failed to write to flash memory   \n",
       "197               reference data could not be generated   \n",
       "269   the order wa interrupted to the tsadapter beca...   \n",
       "1389                                      bollard error   \n",
       "\n",
       "                                             Diagnostic  \\\n",
       "638                              did not configure slot   \n",
       "1118                         flash memory may be faulty   \n",
       "197                               error in the database   \n",
       "269   if you attempt to get connected via long telep...   \n",
       "1389                              bollard will not rise   \n",
       "\n",
       "                                      Corrective Action       PLC   Model  \n",
       "638   make sure interface is in the correct slot on ...        ge  series  \n",
       "1118                              change the cpu module  yokogawa  centum  \n",
       "197   the project can be correctded with save a with...   siemens    step  \n",
       "269   in teleservice under option setting monitoring...   siemens    step  \n",
       "1389  one of the safety sensor is hooked reset senso...   siemens    logo  "
      ]
     },
     "execution_count": 60,
     "metadata": {},
     "output_type": "execute_result"
    }
   ],
   "source": [
    "import re\n",
    "\n",
    "def preprocess_text(text):\n",
    "    # Remove unwanted characters\n",
    "    text = re.sub('[^a-zA-Z\\s]', '', text)\n",
    "    # Convert to lowercase\n",
    "    text = text.lower()\n",
    "    return text\n",
    "\n",
    "df['Corrective Action'] = df['Corrective Action'].astype(str)\n",
    "df['PLC'] = df['PLC'].astype(str)\n",
    "df['Model'] = df['Model'].astype(str)\n",
    "df['Fault'] = df['Fault'].astype(str)\n",
    "df['Diagnostic'] = df['Diagnostic'].astype(str)\n",
    "\n",
    "\n",
    "df['Corrective Action'] = df['Corrective Action'].apply(preprocess_text)\n",
    "df['PLC'] = df['PLC'].apply(preprocess_text)\n",
    "df['Model'] = df['Model'].apply(preprocess_text)\n",
    "df['Fault'] = df['Fault'].apply(preprocess_text)\n",
    "df['Diagnostic'] = df['Diagnostic'].apply(preprocess_text)\n",
    "df.sample(5)"
   ]
  },
  {
   "cell_type": "code",
   "execution_count": 51,
   "id": "737a3dcc",
   "metadata": {},
   "outputs": [
    {
     "name": "stdout",
     "output_type": "stream",
     "text": [
      "<class 'pandas.core.frame.DataFrame'>\n",
      "RangeIndex: 1398 entries, 0 to 1397\n",
      "Data columns (total 5 columns):\n",
      " #   Column             Non-Null Count  Dtype \n",
      "---  ------             --------------  ----- \n",
      " 0   Fault              1398 non-null   object\n",
      " 1   Diagnostic         1398 non-null   object\n",
      " 2   Corrective Action  1398 non-null   object\n",
      " 3   PLC                1398 non-null   object\n",
      " 4   Model              1398 non-null   object\n",
      "dtypes: object(5)\n",
      "memory usage: 54.7+ KB\n"
     ]
    }
   ],
   "source": [
    "df.info()"
   ]
  },
  {
   "cell_type": "code",
   "execution_count": 61,
   "id": "3669a26d",
   "metadata": {},
   "outputs": [
    {
     "data": {
      "text/html": [
       "<div>\n",
       "<style scoped>\n",
       "    .dataframe tbody tr th:only-of-type {\n",
       "        vertical-align: middle;\n",
       "    }\n",
       "\n",
       "    .dataframe tbody tr th {\n",
       "        vertical-align: top;\n",
       "    }\n",
       "\n",
       "    .dataframe thead th {\n",
       "        text-align: right;\n",
       "    }\n",
       "</style>\n",
       "<table border=\"1\" class=\"dataframe\">\n",
       "  <thead>\n",
       "    <tr style=\"text-align: right;\">\n",
       "      <th></th>\n",
       "      <th>Fault</th>\n",
       "      <th>Diagnostic</th>\n",
       "      <th>Corrective Action</th>\n",
       "      <th>PLC</th>\n",
       "      <th>Model</th>\n",
       "    </tr>\n",
       "  </thead>\n",
       "  <tbody>\n",
       "    <tr>\n",
       "      <th>1267</th>\n",
       "      <td>accountpromptfailed</td>\n",
       "      <td>internal error failed to activate the dialog t...</td>\n",
       "      <td>try to repair the window installation</td>\n",
       "      <td>abb</td>\n",
       "      <td>xa</td>\n",
       "    </tr>\n",
       "    <tr>\n",
       "      <th>816</th>\n",
       "      <td>monitoring</td>\n",
       "      <td>measuring range violated underrange</td>\n",
       "      <td>adjust the range check the wiring</td>\n",
       "      <td>phoenix</td>\n",
       "      <td>axc</td>\n",
       "    </tr>\n",
       "    <tr>\n",
       "      <th>796</th>\n",
       "      <td>temperature</td>\n",
       "      <td>overtemperature</td>\n",
       "      <td>check the mounting position</td>\n",
       "      <td>phoenix</td>\n",
       "      <td>axc</td>\n",
       "    </tr>\n",
       "    <tr>\n",
       "      <th>504</th>\n",
       "      <td>minor fault tc alarm fault alarm set highest s...</td>\n",
       "      <td>alarm set highest severity alarm data may be i...</td>\n",
       "      <td>if the fault occurs for a controller that expe...</td>\n",
       "      <td>allen bradely</td>\n",
       "      <td>studio logix designer</td>\n",
       "    </tr>\n",
       "    <tr>\n",
       "      <th>1009</th>\n",
       "      <td>sp parameter error</td>\n",
       "      <td>the head io number in the intelligent function...</td>\n",
       "      <td>check the parameter setting</td>\n",
       "      <td>mitsubishi</td>\n",
       "      <td>logic controller</td>\n",
       "    </tr>\n",
       "  </tbody>\n",
       "</table>\n",
       "</div>"
      ],
      "text/plain": [
       "                                                  Fault  \\\n",
       "1267                                accountpromptfailed   \n",
       "816                                          monitoring   \n",
       "796                                         temperature   \n",
       "504   minor fault tc alarm fault alarm set highest s...   \n",
       "1009                                 sp parameter error   \n",
       "\n",
       "                                             Diagnostic  \\\n",
       "1267  internal error failed to activate the dialog t...   \n",
       "816                 measuring range violated underrange   \n",
       "796                                     overtemperature   \n",
       "504   alarm set highest severity alarm data may be i...   \n",
       "1009  the head io number in the intelligent function...   \n",
       "\n",
       "                                      Corrective Action            PLC  \\\n",
       "1267              try to repair the window installation            abb   \n",
       "816                   adjust the range check the wiring        phoenix   \n",
       "796                         check the mounting position        phoenix   \n",
       "504   if the fault occurs for a controller that expe...  allen bradely   \n",
       "1009                        check the parameter setting     mitsubishi   \n",
       "\n",
       "                      Model  \n",
       "1267                     xa  \n",
       "816                     axc  \n",
       "796                     axc  \n",
       "504   studio logix designer  \n",
       "1009       logic controller  "
      ]
     },
     "execution_count": 61,
     "metadata": {},
     "output_type": "execute_result"
    }
   ],
   "source": [
    "# lemmatization\n",
    "from nltk.stem import WordNetLemmatizer\n",
    "lemmatizer = WordNetLemmatizer()\n",
    "def lemmatize_words(text):\n",
    "    return \" \".join([lemmatizer.lemmatize(word) for word in text.split()])\n",
    "df[\"Fault\"] = df[\"Fault\"].apply(lambda text: lemmatize_words(text))\n",
    "df[\"Diagnostic\"] = df[\"Diagnostic\"].apply(lambda text: lemmatize_words(text))\n",
    "df[\"Corrective Action\"] = df[\"Corrective Action\"].apply(lambda text: lemmatize_words(text))\n",
    "df[\"PLC\"] = df[\"PLC\"].apply(lambda text: lemmatize_words(text))\n",
    "df[\"Model\"] = df[\"Model\"].apply(lambda text: lemmatize_words(text))\n",
    "df.sample(5)"
   ]
  },
  {
   "cell_type": "code",
   "execution_count": 57,
   "id": "9be809a2",
   "metadata": {},
   "outputs": [],
   "source": [
    "df['Corrective Action'] = df['Corrective Action'].astype(str)\n",
    "df['PLC'] = df['PLC'].astype(str)\n",
    "df['Model'] = df['Model'].astype(str)\n",
    "df['Fault'] = df['Fault'].astype(str)\n",
    "df['Diagnostic'] = df['Diagnostic'].astype(str)"
   ]
  },
  {
   "cell_type": "code",
   "execution_count": 58,
   "id": "c86469c3",
   "metadata": {},
   "outputs": [
    {
     "name": "stdout",
     "output_type": "stream",
     "text": [
      "[['Fault'], ['Diagnostic'], ['Corrective', 'Action'], ['PLC'], ['Model']]\n"
     ]
    },
    {
     "name": "stderr",
     "output_type": "stream",
     "text": [
      "[nltk_data] Downloading package punkt to\n",
      "[nltk_data]     C:\\Users\\kibe\\AppData\\Roaming\\nltk_data...\n",
      "[nltk_data]   Package punkt is already up-to-date!\n"
     ]
    }
   ],
   "source": [
    "import nltk\n",
    "nltk.download('punkt')\n",
    "from nltk.tokenize import word_tokenize\n",
    "\n",
    "# Tokenize the text data\n",
    "def tokenize_text(text):\n",
    "    # Tokenize the text into words\n",
    "    tokens = word_tokenize(text)\n",
    "    return tokens\n",
    "\n",
    "text_data =df\n",
    "tokens = [tokenize_text(text) for text in text_data]\n",
    "print(tokens)"
   ]
  },
  {
   "cell_type": "code",
   "execution_count": 56,
   "id": "f25d4e3b",
   "metadata": {},
   "outputs": [
    {
     "name": "stdout",
     "output_type": "stream",
     "text": [
      "5\n"
     ]
    }
   ],
   "source": [
    "print(len(tokens))"
   ]
  },
  {
   "cell_type": "code",
   "execution_count": null,
   "id": "a9ff3caa",
   "metadata": {},
   "outputs": [],
   "source": [
    "from keras.models import Sequential\n",
    "from keras.layers import Dense\n",
    "from sklearn.model_selection import train_test_split\n",
    "\n",
    "\n",
    "X = df2[['PLC', 'Model', 'fault']] # input features\n",
    "y = df2[['diagnostic', 'Corrective Action']]\n",
    "\n",
    "X_train, X_test, y_train, y_test = train_test_split(X, y, test_size=0.2)\n",
    "\n",
    "model = Sequential()\n",
    "model.add(Dense(10, input_dim=3, activation='relu')) # input layer\n",
    "model.add(Dense(10, activation='relu')) # hidden layer\n",
    "model.add(Dense(2, activation='softmax')) \n",
    "\n",
    "model.compile(loss='categorical_crossentropy', optimizer='adam', metrics=['accuracy'])\n",
    "\n",
    "model.fit(X_train, y_train, epochs=10, batch_size=32)\n",
    "\n",
    "# Evaluate the model on the test data\n",
    "test_loss, test_acc = model.evaluate(X_test, y_test)\n",
    "print('Test accuracy:', test_acc)"
   ]
  }
 ],
 "metadata": {
  "kernelspec": {
   "display_name": "Python 3 (ipykernel)",
   "language": "python",
   "name": "python3"
  },
  "language_info": {
   "codemirror_mode": {
    "name": "ipython",
    "version": 3
   },
   "file_extension": ".py",
   "mimetype": "text/x-python",
   "name": "python",
   "nbconvert_exporter": "python",
   "pygments_lexer": "ipython3",
   "version": "3.9.12"
  }
 },
 "nbformat": 4,
 "nbformat_minor": 5
}
